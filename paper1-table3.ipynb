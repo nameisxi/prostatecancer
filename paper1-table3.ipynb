{
 "cells": [
  {
   "cell_type": "code",
   "execution_count": 202,
   "metadata": {},
   "outputs": [],
   "source": [
    "#install.packages(\"fmsb\")\n",
    "#install.packages(\"fastDummies\")\n",
    "library(\"fmsb\")\n",
    "library(\"fastDummies\")"
   ]
  },
  {
   "cell_type": "code",
   "execution_count": 149,
   "metadata": {},
   "outputs": [],
   "source": [
    "options(scipen=999)"
   ]
  },
  {
   "cell_type": "code",
   "execution_count": 306,
   "metadata": {},
   "outputs": [],
   "source": [
    "data = read.csv(\"./Prostate_cancer_micronutrients.csv\")"
   ]
  },
  {
   "cell_type": "code",
   "execution_count": 307,
   "metadata": {},
   "outputs": [],
   "source": [
    "# Creating a boolean column 'cancer in family' \n",
    "data$cancerInFamily = as.numeric(data$q4A1 == 2 | data$q4A1 == 3)\n",
    "\n",
    "# Creating boolean columns for eye colors\n",
    "data$lightBrownEyes = as.numeric(data$eye4 == \"Lt brown\")\n",
    "data$blackOrDarkEyes = as.numeric(data$eye4 == \"Black\")\n",
    "\n",
    "# Creating boolean columns for skin colors\n",
    "data$whiteSkin = as.numeric(data$skin == \"V white/white\")\n",
    "data$lightTanSkin = as.numeric(data$skin == \"Lt Tan\")\n",
    "data$tanOrDarkOrBlackSkin = as.numeric(data$skin == \"Tan\" | data$skin == \"Dk brown/black\")\n",
    "\n",
    "# Creating boolean columns for sunburn frequency\n",
    "data$sunburnNever = as.numeric(data$sunburn_fq == \"Never\")\n",
    "data$sunburnSeldom = as.numeric(data$sunburn_fq == \"Seldom\")\n",
    "data$sunburnOccasionally = as.numeric(data$sunburn_fq == \"Occasionally\")\n",
    "data$sunburnFrequently = as.numeric(data$sunburn_fq == \"Frequently\")\n",
    "\n",
    "# Creating boolean columns for sun exposure in adulthood\n",
    "data$sunExposureBelow0.5 = as.numeric(data$adultpw_gp3 == 0)\n",
    "data$sunExposureOver0.5 = as.numeric(as.numeric(data$adultpw_gp3 == 1) | as.numeric(data$adultpw_gp3 == 2))\n",
    "data$sunExposure0.5To10 = as.numeric(data$adultpw_gp3 == 1)\n",
    "data$sunExposure10.1To56 = as.numeric(data$adultpw_gp3 == 2)"
   ]
  },
  {
   "cell_type": "code",
   "execution_count": 308,
   "metadata": {},
   "outputs": [
    {
     "name": "stdout",
     "output_type": "stream",
     "text": [
      "[1] \"casectrl\"\n",
      "[1] \"11\"\n",
      "[1] \"age\"\n",
      "[1] \"11\"\n",
      "[1] \"ethnic0\"\n",
      "[1] \"11\"\n",
      "[1] \"school_gp\"\n",
      "[1] \"14\"\n",
      "[1] \"cancerInFamily\"\n",
      "[1] \"14\"\n",
      "[1] \"BMI\"\n",
      "[1] \"123\"\n",
      "[1] \"blackOrDarkEyes\"\n",
      "[1] \"19\"\n",
      "[1] \"lightTanSkin\"\n",
      "[1] \"17\"\n",
      "[1] \"tanOrDarkOrBlackSkin\"\n",
      "[1] \"17\"\n",
      "[1] \"sunburnNever\"\n",
      "[1] \"32\"\n",
      "[1] \"sunburnSeldom\"\n",
      "[1] \"32\"\n",
      "[1] \"sunburnOccasionally\"\n",
      "[1] \"32\"\n",
      "[1] \"sunburnFrequently\"\n",
      "[1] \"32\"\n",
      "[1] \"sunExposureBelow0.5\"\n",
      "[1] \"11\"\n",
      "[1] \"sunExposureOver0.5\"\n",
      "[1] \"11\"\n",
      "[1] \"sunExposure0.5To10\"\n",
      "[1] \"11\"\n",
      "[1] \"sunExposure10.1To56\"\n",
      "[1] \"11\"\n"
     ]
    }
   ],
   "source": [
    "columns = c('casectrl', 'age', 'ethnic0', 'school_gp', 'cancerInFamily', 'BMI', 'blackOrDarkEyes', 'lightTanSkin', 'tanOrDarkOrBlackSkin', 'sunburnNever', 'sunburnSeldom', 'sunburnOccasionally', 'sunburnFrequently', 'sunExposureBelow0.5', 'sunExposureOver0.5', 'sunExposure0.5To10', 'sunExposure10.1To56')\n",
    "for (c in columns) {\n",
    "    print(c)\n",
    "    print(toString(sum(is.na(data[c]))))\n",
    "}"
   ]
  },
  {
   "cell_type": "markdown",
   "metadata": {},
   "source": [
    "It seems that we _really_ need to impute BMI"
   ]
  },
  {
   "cell_type": "code",
   "execution_count": 309,
   "metadata": {},
   "outputs": [],
   "source": [
    "data$BMI[is.na(data$BMI)] = mean(data$BMI, na.rm = TRUE)"
   ]
  },
  {
   "cell_type": "code",
   "execution_count": 310,
   "metadata": {},
   "outputs": [
    {
     "name": "stdout",
     "output_type": "stream",
     "text": [
      "[1] \"BMI\"\n",
      "[1] \"0\"\n"
     ]
    }
   ],
   "source": [
    "print(\"BMI\")\n",
    "print(toString(sum(is.na(data['BMI']))))"
   ]
  },
  {
   "cell_type": "markdown",
   "metadata": {},
   "source": [
    "## Modeling"
   ]
  },
  {
   "cell_type": "markdown",
   "metadata": {},
   "source": [
    "### Model 1"
   ]
  },
  {
   "cell_type": "code",
   "execution_count": 311,
   "metadata": {},
   "outputs": [
    {
     "data": {
      "text/plain": [
       "\n",
       "Call:\n",
       "glm(formula = casectrl ~ age + ethnic0 + school_gp + cancerInFamily + \n",
       "    BMI + blackOrDarkEyes + lightTanSkin + tanOrDarkOrBlackSkin, \n",
       "    data = data)\n",
       "\n",
       "Deviance Residuals: \n",
       "     Min        1Q    Median        3Q       Max  \n",
       "-0.95889  -0.34729  -0.01471   0.35723   1.10961  \n",
       "\n",
       "Coefficients:\n",
       "                      Estimate Std. Error t value       Pr(>|t|)    \n",
       "(Intercept)          -0.938693   0.245712  -3.820       0.000151 ***\n",
       "age                   0.015820   0.002492   6.348 0.000000000500 ***\n",
       "ethnic0              -0.076629   0.031774  -2.412       0.016246 *  \n",
       "school_gp             0.148865   0.023110   6.441 0.000000000284 ***\n",
       "cancerInFamily        0.190574   0.042429   4.492 0.000008837052 ***\n",
       "BMI                  -0.014035   0.005277  -2.660       0.008080 ** \n",
       "blackOrDarkEyes       0.264318   0.045473   5.813 0.000000011132 ***\n",
       "lightTanSkin          0.232851   0.050644   4.598 0.000005447690 ***\n",
       "tanOrDarkOrBlackSkin  0.267210   0.058587   4.561 0.000006453399 ***\n",
       "---\n",
       "Signif. codes:  0 ‘***’ 0.001 ‘**’ 0.01 ‘*’ 0.05 ‘.’ 0.1 ‘ ’ 1\n",
       "\n",
       "(Dispersion parameter for gaussian family taken to be 0.1767589)\n",
       "\n",
       "    Null deviance: 123.605  on 495  degrees of freedom\n",
       "Residual deviance:  86.082  on 487  degrees of freedom\n",
       "  (28 observations deleted due to missingness)\n",
       "AIC: 558.95\n",
       "\n",
       "Number of Fisher Scoring iterations: 2\n"
      ]
     },
     "metadata": {},
     "output_type": "display_data"
    }
   ],
   "source": [
    "model1 = glm(casectrl ~ age + ethnic0 + school_gp + cancerInFamily + BMI + blackOrDarkEyes + lightTanSkin + tanOrDarkOrBlackSkin, data=data)\n",
    "summary(model1)"
   ]
  },
  {
   "cell_type": "code",
   "execution_count": 312,
   "metadata": {},
   "outputs": [
    {
     "name": "stderr",
     "output_type": "stream",
     "text": [
      "Waiting for profiling to be done...\n",
      "\n"
     ]
    },
    {
     "data": {
      "text/html": [
       "<table>\n",
       "<caption>A matrix: 9 × 3 of type dbl</caption>\n",
       "<thead>\n",
       "\t<tr><th></th><th scope=col>OR</th><th scope=col>2.5 %</th><th scope=col>97.5 %</th></tr>\n",
       "</thead>\n",
       "<tbody>\n",
       "\t<tr><th scope=row>(Intercept)</th><td>0.3911386</td><td>0.2416464</td><td>0.6331127</td></tr>\n",
       "\t<tr><th scope=row>age</th><td>1.0159455</td><td>1.0109954</td><td>1.0209199</td></tr>\n",
       "\t<tr><th scope=row>ethnic0</th><td>0.9262332</td><td>0.8703112</td><td>0.9857486</td></tr>\n",
       "\t<tr><th scope=row>school_gp</th><td>1.1605167</td><td>1.1091233</td><td>1.2142915</td></tr>\n",
       "\t<tr><th scope=row>cancerInFamily</th><td>1.2099437</td><td>1.1133960</td><td>1.3148635</td></tr>\n",
       "\t<tr><th scope=row>BMI</th><td>0.9860628</td><td>0.9759166</td><td>0.9963146</td></tr>\n",
       "\t<tr><th scope=row>blackOrDarkEyes</th><td>1.3025424</td><td>1.1914754</td><td>1.4239627</td></tr>\n",
       "\t<tr><th scope=row>lightTanSkin</th><td>1.2621939</td><td>1.1429262</td><td>1.3939075</td></tr>\n",
       "\t<tr><th scope=row>tanOrDarkOrBlackSkin</th><td>1.3063147</td><td>1.1646037</td><td>1.4652695</td></tr>\n",
       "</tbody>\n",
       "</table>\n"
      ],
      "text/latex": [
       "A matrix: 9 × 3 of type dbl\n",
       "\\begin{tabular}{r|lll}\n",
       "  & OR & 2.5 \\% & 97.5 \\%\\\\\n",
       "\\hline\n",
       "\t(Intercept) & 0.3911386 & 0.2416464 & 0.6331127\\\\\n",
       "\tage & 1.0159455 & 1.0109954 & 1.0209199\\\\\n",
       "\tethnic0 & 0.9262332 & 0.8703112 & 0.9857486\\\\\n",
       "\tschool\\_gp & 1.1605167 & 1.1091233 & 1.2142915\\\\\n",
       "\tcancerInFamily & 1.2099437 & 1.1133960 & 1.3148635\\\\\n",
       "\tBMI & 0.9860628 & 0.9759166 & 0.9963146\\\\\n",
       "\tblackOrDarkEyes & 1.3025424 & 1.1914754 & 1.4239627\\\\\n",
       "\tlightTanSkin & 1.2621939 & 1.1429262 & 1.3939075\\\\\n",
       "\ttanOrDarkOrBlackSkin & 1.3063147 & 1.1646037 & 1.4652695\\\\\n",
       "\\end{tabular}\n"
      ],
      "text/markdown": [
       "\n",
       "A matrix: 9 × 3 of type dbl\n",
       "\n",
       "| <!--/--> | OR | 2.5 % | 97.5 % |\n",
       "|---|---|---|---|\n",
       "| (Intercept) | 0.3911386 | 0.2416464 | 0.6331127 |\n",
       "| age | 1.0159455 | 1.0109954 | 1.0209199 |\n",
       "| ethnic0 | 0.9262332 | 0.8703112 | 0.9857486 |\n",
       "| school_gp | 1.1605167 | 1.1091233 | 1.2142915 |\n",
       "| cancerInFamily | 1.2099437 | 1.1133960 | 1.3148635 |\n",
       "| BMI | 0.9860628 | 0.9759166 | 0.9963146 |\n",
       "| blackOrDarkEyes | 1.3025424 | 1.1914754 | 1.4239627 |\n",
       "| lightTanSkin | 1.2621939 | 1.1429262 | 1.3939075 |\n",
       "| tanOrDarkOrBlackSkin | 1.3063147 | 1.1646037 | 1.4652695 |\n",
       "\n"
      ],
      "text/plain": [
       "                     OR        2.5 %     97.5 %   \n",
       "(Intercept)          0.3911386 0.2416464 0.6331127\n",
       "age                  1.0159455 1.0109954 1.0209199\n",
       "ethnic0              0.9262332 0.8703112 0.9857486\n",
       "school_gp            1.1605167 1.1091233 1.2142915\n",
       "cancerInFamily       1.2099437 1.1133960 1.3148635\n",
       "BMI                  0.9860628 0.9759166 0.9963146\n",
       "blackOrDarkEyes      1.3025424 1.1914754 1.4239627\n",
       "lightTanSkin         1.2621939 1.1429262 1.3939075\n",
       "tanOrDarkOrBlackSkin 1.3063147 1.1646037 1.4652695"
      ]
     },
     "metadata": {},
     "output_type": "display_data"
    }
   ],
   "source": [
    "# Printing OR and 95% CI:\n",
    "exp(cbind(OR = coef(model1), confint(model1)))"
   ]
  },
  {
   "cell_type": "markdown",
   "metadata": {},
   "source": [
    "### Model 2"
   ]
  },
  {
   "cell_type": "code",
   "execution_count": 313,
   "metadata": {},
   "outputs": [
    {
     "data": {
      "text/plain": [
       "\n",
       "Call:\n",
       "glm(formula = casectrl ~ age + ethnic0 + school_gp + cancerInFamily + \n",
       "    BMI + skin2 + sunburnSeldom + sunburnOccasionally + sunburnFrequently + \n",
       "    sunExposureOver0.5 + sunExposure0.5To10 + sunExposure10.1To56, \n",
       "    data = data)\n",
       "\n",
       "Deviance Residuals: \n",
       "     Min        1Q    Median        3Q       Max  \n",
       "-0.95972  -0.36166  -0.05893   0.38840   0.97784  \n",
       "\n",
       "Coefficients: (1 not defined because of singularities)\n",
       "                     Estimate Std. Error t value       Pr(>|t|)    \n",
       "(Intercept)         -0.948567   0.255680  -3.710       0.000232 ***\n",
       "age                  0.017033   0.002606   6.536 0.000000000165 ***\n",
       "ethnic0             -0.082647   0.030506  -2.709       0.006992 ** \n",
       "school_gp            0.134607   0.025180   5.346 0.000000140853 ***\n",
       "cancerInFamily       0.194012   0.044460   4.364 0.000015737444 ***\n",
       "BMI                 -0.015584   0.005490  -2.839       0.004726 ** \n",
       "skin2                0.115345   0.019378   5.952 0.000000005181 ***\n",
       "sunburnSeldom        0.010284   0.049962   0.206       0.837013    \n",
       "sunburnOccasionally  0.125674   0.065305   1.924       0.054907 .  \n",
       "sunburnFrequently    0.173582   0.073227   2.370       0.018170 *  \n",
       "sunExposureOver0.5   0.062510   0.053633   1.166       0.244401    \n",
       "sunExposure0.5To10   0.031553   0.065580   0.481       0.630645    \n",
       "sunExposure10.1To56        NA         NA      NA             NA    \n",
       "---\n",
       "Signif. codes:  0 ‘***’ 0.001 ‘**’ 0.01 ‘*’ 0.05 ‘.’ 0.1 ‘ ’ 1\n",
       "\n",
       "(Dispersion parameter for gaussian family taken to be 0.1861418)\n",
       "\n",
       "    Null deviance: 119.975  on 480  degrees of freedom\n",
       "Residual deviance:  87.301  on 469  degrees of freedom\n",
       "  (43 observations deleted due to missingness)\n",
       "AIC: 570.19\n",
       "\n",
       "Number of Fisher Scoring iterations: 2\n"
      ]
     },
     "metadata": {},
     "output_type": "display_data"
    }
   ],
   "source": [
    "model2 = glm(casectrl ~ age + ethnic0 + school_gp + cancerInFamily + BMI + skin2 + sunburnSeldom + sunburnOccasionally + sunburnFrequently + sunExposureOver0.5 + sunExposure0.5To10 + sunExposure10.1To56, data=data)\n",
    "summary(model2)"
   ]
  },
  {
   "cell_type": "code",
   "execution_count": 303,
   "metadata": {},
   "outputs": [
    {
     "name": "stderr",
     "output_type": "stream",
     "text": [
      "Waiting for profiling to be done...\n",
      "\n"
     ]
    },
    {
     "data": {
      "text/html": [
       "<table>\n",
       "<caption>A matrix: 13 × 3 of type dbl</caption>\n",
       "<thead>\n",
       "\t<tr><th></th><th scope=col>OR</th><th scope=col>2.5 %</th><th scope=col>97.5 %</th></tr>\n",
       "</thead>\n",
       "<tbody>\n",
       "\t<tr><th scope=row>(Intercept)</th><td>0.3872955</td><td>0.2346430</td><td>0.6392596</td></tr>\n",
       "\t<tr><th scope=row>age</th><td>1.0171791</td><td>1.0119969</td><td>1.0223879</td></tr>\n",
       "\t<tr><th scope=row>ethnic0</th><td>0.9206765</td><td>0.8672420</td><td>0.9774034</td></tr>\n",
       "\t<tr><th scope=row>school_gp</th><td>1.1440870</td><td>1.0889947</td><td>1.2019665</td></tr>\n",
       "\t<tr><th scope=row>cancerInFamily</th><td>1.2141113</td><td>1.1127921</td><td>1.3246555</td></tr>\n",
       "\t<tr><th scope=row>BMI</th><td>0.9845368</td><td>0.9740001</td><td>0.9951875</td></tr>\n",
       "\t<tr><th scope=row>skin2</th><td>1.1222608</td><td>1.0804366</td><td>1.1657041</td></tr>\n",
       "\t<tr><th scope=row>sunburnSeldom</th><td>1.0103368</td><td>0.9160902</td><td>1.1142793</td></tr>\n",
       "\t<tr><th scope=row>sunburnOccasionally</th><td>1.1339126</td><td>0.9976811</td><td>1.2887463</td></tr>\n",
       "\t<tr><th scope=row>sunburnFrequently</th><td>1.1895580</td><td>1.0305154</td><td>1.3731461</td></tr>\n",
       "\t<tr><th scope=row>sunExposureOver0.5</th><td>1.0645049</td><td>0.9582870</td><td>1.1824961</td></tr>\n",
       "\t<tr><th scope=row>sunExposure0.5To10</th><td>1.0320560</td><td>0.9075724</td><td>1.1736139</td></tr>\n",
       "\t<tr><th scope=row>sunExposure10.1To56</th><td>       NA</td><td>       NA</td><td>       NA</td></tr>\n",
       "</tbody>\n",
       "</table>\n"
      ],
      "text/latex": [
       "A matrix: 13 × 3 of type dbl\n",
       "\\begin{tabular}{r|lll}\n",
       "  & OR & 2.5 \\% & 97.5 \\%\\\\\n",
       "\\hline\n",
       "\t(Intercept) & 0.3872955 & 0.2346430 & 0.6392596\\\\\n",
       "\tage & 1.0171791 & 1.0119969 & 1.0223879\\\\\n",
       "\tethnic0 & 0.9206765 & 0.8672420 & 0.9774034\\\\\n",
       "\tschool\\_gp & 1.1440870 & 1.0889947 & 1.2019665\\\\\n",
       "\tcancerInFamily & 1.2141113 & 1.1127921 & 1.3246555\\\\\n",
       "\tBMI & 0.9845368 & 0.9740001 & 0.9951875\\\\\n",
       "\tskin2 & 1.1222608 & 1.0804366 & 1.1657041\\\\\n",
       "\tsunburnSeldom & 1.0103368 & 0.9160902 & 1.1142793\\\\\n",
       "\tsunburnOccasionally & 1.1339126 & 0.9976811 & 1.2887463\\\\\n",
       "\tsunburnFrequently & 1.1895580 & 1.0305154 & 1.3731461\\\\\n",
       "\tsunExposureOver0.5 & 1.0645049 & 0.9582870 & 1.1824961\\\\\n",
       "\tsunExposure0.5To10 & 1.0320560 & 0.9075724 & 1.1736139\\\\\n",
       "\tsunExposure10.1To56 &        NA &        NA &        NA\\\\\n",
       "\\end{tabular}\n"
      ],
      "text/markdown": [
       "\n",
       "A matrix: 13 × 3 of type dbl\n",
       "\n",
       "| <!--/--> | OR | 2.5 % | 97.5 % |\n",
       "|---|---|---|---|\n",
       "| (Intercept) | 0.3872955 | 0.2346430 | 0.6392596 |\n",
       "| age | 1.0171791 | 1.0119969 | 1.0223879 |\n",
       "| ethnic0 | 0.9206765 | 0.8672420 | 0.9774034 |\n",
       "| school_gp | 1.1440870 | 1.0889947 | 1.2019665 |\n",
       "| cancerInFamily | 1.2141113 | 1.1127921 | 1.3246555 |\n",
       "| BMI | 0.9845368 | 0.9740001 | 0.9951875 |\n",
       "| skin2 | 1.1222608 | 1.0804366 | 1.1657041 |\n",
       "| sunburnSeldom | 1.0103368 | 0.9160902 | 1.1142793 |\n",
       "| sunburnOccasionally | 1.1339126 | 0.9976811 | 1.2887463 |\n",
       "| sunburnFrequently | 1.1895580 | 1.0305154 | 1.3731461 |\n",
       "| sunExposureOver0.5 | 1.0645049 | 0.9582870 | 1.1824961 |\n",
       "| sunExposure0.5To10 | 1.0320560 | 0.9075724 | 1.1736139 |\n",
       "| sunExposure10.1To56 |        NA |        NA |        NA |\n",
       "\n"
      ],
      "text/plain": [
       "                    OR        2.5 %     97.5 %   \n",
       "(Intercept)         0.3872955 0.2346430 0.6392596\n",
       "age                 1.0171791 1.0119969 1.0223879\n",
       "ethnic0             0.9206765 0.8672420 0.9774034\n",
       "school_gp           1.1440870 1.0889947 1.2019665\n",
       "cancerInFamily      1.2141113 1.1127921 1.3246555\n",
       "BMI                 0.9845368 0.9740001 0.9951875\n",
       "skin2               1.1222608 1.0804366 1.1657041\n",
       "sunburnSeldom       1.0103368 0.9160902 1.1142793\n",
       "sunburnOccasionally 1.1339126 0.9976811 1.2887463\n",
       "sunburnFrequently   1.1895580 1.0305154 1.3731461\n",
       "sunExposureOver0.5  1.0645049 0.9582870 1.1824961\n",
       "sunExposure0.5To10  1.0320560 0.9075724 1.1736139\n",
       "sunExposure10.1To56        NA        NA        NA"
      ]
     },
     "metadata": {},
     "output_type": "display_data"
    }
   ],
   "source": [
    "# Printing OR and 95% CI:\n",
    "exp(cbind(OR = coef(model2), confint(model2)))"
   ]
  },
  {
   "cell_type": "code",
   "execution_count": null,
   "metadata": {},
   "outputs": [],
   "source": []
  },
  {
   "cell_type": "markdown",
   "metadata": {},
   "source": [
    "## Manual way to calculate OR and 95% CI:"
   ]
  },
  {
   "cell_type": "markdown",
   "metadata": {},
   "source": [
    "### Eye colour"
   ]
  },
  {
   "cell_type": "code",
   "execution_count": 135,
   "metadata": {},
   "outputs": [
    {
     "data": {
      "text/html": [
       "<table>\n",
       "<caption>A matrix: 2 × 2 of type dbl</caption>\n",
       "<tbody>\n",
       "\t<tr><td>209</td><td>169</td></tr>\n",
       "\t<tr><td> 25</td><td> 97</td></tr>\n",
       "</tbody>\n",
       "</table>\n"
      ],
      "text/latex": [
       "A matrix: 2 × 2 of type dbl\n",
       "\\begin{tabular}{ll}\n",
       "\t 209 & 169\\\\\n",
       "\t  25 &  97\\\\\n",
       "\\end{tabular}\n"
      ],
      "text/markdown": [
       "\n",
       "A matrix: 2 × 2 of type dbl\n",
       "\n",
       "| 209 | 169 |\n",
       "|  25 |  97 |\n",
       "\n"
      ],
      "text/plain": [
       "     [,1] [,2]\n",
       "[1,] 209  169 \n",
       "[2,]  25   97 "
      ]
     },
     "metadata": {},
     "output_type": "display_data"
    }
   ],
   "source": [
    "a = cbind(c(209,25), \n",
    "          c(169,97))\n",
    "a"
   ]
  },
  {
   "cell_type": "code",
   "execution_count": 136,
   "metadata": {},
   "outputs": [
    {
     "name": "stdout",
     "output_type": "stream",
     "text": [
      "           Disease Nondisease Total\n",
      "Exposed        209        169   378\n",
      "Nonexposed      25         97   122\n",
      "Total          234        266   500\n"
     ]
    }
   ],
   "source": [
    "result = oddsratio(a, conf.level=0.95)\n",
    "or = result['estimate']\n",
    "ci = result['conf.int']"
   ]
  },
  {
   "cell_type": "code",
   "execution_count": 137,
   "metadata": {},
   "outputs": [
    {
     "name": "stdout",
     "output_type": "stream",
     "text": [
      "$estimate\n",
      "[1] 4.798343\n",
      "\n",
      "$conf.int\n",
      "[1] 2.956929 7.786490\n",
      "attr(,\"conf.level\")\n",
      "[1] 0.95\n",
      "\n"
     ]
    }
   ],
   "source": [
    "print(or)\n",
    "print(ci)"
   ]
  }
 ],
 "metadata": {
  "kernelspec": {
   "display_name": "R",
   "language": "R",
   "name": "ir"
  },
  "language_info": {
   "codemirror_mode": "r",
   "file_extension": ".r",
   "mimetype": "text/x-r-source",
   "name": "R",
   "pygments_lexer": "r",
   "version": "3.6.2"
  },
  "toc": {
   "base_numbering": 1,
   "nav_menu": {},
   "number_sections": true,
   "sideBar": true,
   "skip_h1_title": false,
   "title_cell": "Table of Contents",
   "title_sidebar": "Contents",
   "toc_cell": false,
   "toc_position": {},
   "toc_section_display": true,
   "toc_window_display": false
  }
 },
 "nbformat": 4,
 "nbformat_minor": 4
}
