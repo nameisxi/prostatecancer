{
 "cells": [
  {
   "cell_type": "code",
   "execution_count": 21,
   "metadata": {},
   "outputs": [],
   "source": [
    "#install.packages(\"fmsb\")\n",
    "library(\"fmsb\")"
   ]
  },
  {
   "cell_type": "code",
   "execution_count": 149,
   "metadata": {},
   "outputs": [],
   "source": [
    "options(scipen=999)"
   ]
  },
  {
   "cell_type": "markdown",
   "metadata": {},
   "source": [
    "## Manual way to calculate OR and 95% CI:"
   ]
  },
  {
   "cell_type": "markdown",
   "metadata": {},
   "source": [
    "### Eye colour"
   ]
  },
  {
   "cell_type": "code",
   "execution_count": 135,
   "metadata": {},
   "outputs": [
    {
     "data": {
      "text/html": [
       "<table>\n",
       "<caption>A matrix: 2 × 2 of type dbl</caption>\n",
       "<tbody>\n",
       "\t<tr><td>209</td><td>169</td></tr>\n",
       "\t<tr><td> 25</td><td> 97</td></tr>\n",
       "</tbody>\n",
       "</table>\n"
      ],
      "text/latex": [
       "A matrix: 2 × 2 of type dbl\n",
       "\\begin{tabular}{ll}\n",
       "\t 209 & 169\\\\\n",
       "\t  25 &  97\\\\\n",
       "\\end{tabular}\n"
      ],
      "text/markdown": [
       "\n",
       "A matrix: 2 × 2 of type dbl\n",
       "\n",
       "| 209 | 169 |\n",
       "|  25 |  97 |\n",
       "\n"
      ],
      "text/plain": [
       "     [,1] [,2]\n",
       "[1,] 209  169 \n",
       "[2,]  25   97 "
      ]
     },
     "metadata": {},
     "output_type": "display_data"
    }
   ],
   "source": [
    "a = cbind(c(209,25), \n",
    "          c(169,97))\n",
    "a"
   ]
  },
  {
   "cell_type": "code",
   "execution_count": 136,
   "metadata": {},
   "outputs": [
    {
     "name": "stdout",
     "output_type": "stream",
     "text": [
      "           Disease Nondisease Total\n",
      "Exposed        209        169   378\n",
      "Nonexposed      25         97   122\n",
      "Total          234        266   500\n"
     ]
    }
   ],
   "source": [
    "result = oddsratio(a, conf.level=0.95)\n",
    "or = result['estimate']\n",
    "ci = result['conf.int']"
   ]
  },
  {
   "cell_type": "code",
   "execution_count": 137,
   "metadata": {},
   "outputs": [
    {
     "name": "stdout",
     "output_type": "stream",
     "text": [
      "$estimate\n",
      "[1] 4.798343\n",
      "\n",
      "$conf.int\n",
      "[1] 2.956929 7.786490\n",
      "attr(,\"conf.level\")\n",
      "[1] 0.95\n",
      "\n"
     ]
    }
   ],
   "source": [
    "print(or)\n",
    "print(ci)"
   ]
  },
  {
   "cell_type": "markdown",
   "metadata": {},
   "source": [
    "## Modeling"
   ]
  },
  {
   "cell_type": "markdown",
   "metadata": {},
   "source": [
    "### Model 1"
   ]
  },
  {
   "cell_type": "code",
   "execution_count": 138,
   "metadata": {},
   "outputs": [],
   "source": [
    "data = read.csv(\"./Prostate_cancer_micronutrients.csv\")"
   ]
  },
  {
   "cell_type": "code",
   "execution_count": 140,
   "metadata": {},
   "outputs": [],
   "source": [
    "# Creating a boolean column 'cancer in family' \n",
    "data$cancerinfamily = as.numeric(data$q4A1 == 2 | data$q4A1 == 3)"
   ]
  },
  {
   "cell_type": "code",
   "execution_count": 190,
   "metadata": {
    "scrolled": true
   },
   "outputs": [],
   "source": [
    "#data$cancerinfamily"
   ]
  },
  {
   "cell_type": "code",
   "execution_count": 181,
   "metadata": {},
   "outputs": [
    {
     "data": {
      "text/plain": [
       "\n",
       "Call:\n",
       "glm(formula = cbind(age + ethnic0 + school_gp + cancerinfamily + \n",
       "    BMI) ~ eye + skin2, data = data)\n",
       "\n",
       "Deviance Residuals: \n",
       "     Min        1Q    Median        3Q       Max  \n",
       "-19.7348   -5.4896   -0.3396    5.1109   24.7554  \n",
       "\n",
       "Coefficients:\n",
       "            Estimate Std. Error t value             Pr(>|t|)    \n",
       "(Intercept)  88.7937     1.8529   47.92 < 0.0000000000000002 ***\n",
       "eye           0.2507     0.9626    0.26              0.79465    \n",
       "skin2         1.0620     0.3948    2.69              0.00746 ** \n",
       "---\n",
       "Signif. codes:  0 ‘***’ 0.001 ‘**’ 0.01 ‘*’ 0.05 ‘.’ 0.1 ‘ ’ 1\n",
       "\n",
       "(Dispersion parameter for gaussian family taken to be 63.50914)\n",
       "\n",
       "    Null deviance: 25106  on 390  degrees of freedom\n",
       "Residual deviance: 24642  on 388  degrees of freedom\n",
       "  (133 observations deleted due to missingness)\n",
       "AIC: 2737.7\n",
       "\n",
       "Number of Fisher Scoring iterations: 2\n"
      ]
     },
     "metadata": {},
     "output_type": "display_data"
    }
   ],
   "source": [
    "#model1 <- lm(cbind(age + ethnic0 + school_gp + cancerinfamily + BMI) ~ eye + skin2, data=data)\n",
    "#summary(model1)\n",
    "\n",
    "model1 = glm(cbind(age + ethnic0 + school_gp + cancerinfamily + BMI) ~ eye + skin2, data=data)\n",
    "summary(model1)"
   ]
  },
  {
   "cell_type": "code",
   "execution_count": 182,
   "metadata": {},
   "outputs": [
    {
     "name": "stderr",
     "output_type": "stream",
     "text": [
      "Waiting for profiling to be done...\n",
      "\n"
     ]
    },
    {
     "data": {
      "text/html": [
       "<table>\n",
       "<caption>A matrix: 3 × 3 of type dbl</caption>\n",
       "<thead>\n",
       "\t<tr><th></th><th scope=col>OR</th><th scope=col>2.5 %</th><th scope=col>97.5 %</th></tr>\n",
       "</thead>\n",
       "<tbody>\n",
       "\t<tr><th scope=row>(Intercept)</th><td>365281817524772157355004671690490773504.000000</td><td>9670737298594921392032508873201942528.0000000</td><td>13797376776389878444138791488242474549248.000000</td></tr>\n",
       "\t<tr><th scope=row>eye</th><td>                                      1.284951</td><td>                                    0.1947698</td><td>                                        8.477185</td></tr>\n",
       "\t<tr><th scope=row>skin2</th><td>                                      2.892060</td><td>                                    1.3339074</td><td>                                        6.270310</td></tr>\n",
       "</tbody>\n",
       "</table>\n"
      ],
      "text/latex": [
       "A matrix: 3 × 3 of type dbl\n",
       "\\begin{tabular}{r|lll}\n",
       "  & OR & 2.5 \\% & 97.5 \\%\\\\\n",
       "\\hline\n",
       "\t(Intercept) & 365281817524772157355004671690490773504.000000 & 9670737298594921392032508873201942528.0000000 & 13797376776389878444138791488242474549248.000000\\\\\n",
       "\teye &                                       1.284951 &                                     0.1947698 &                                         8.477185\\\\\n",
       "\tskin2 &                                       2.892060 &                                     1.3339074 &                                         6.270310\\\\\n",
       "\\end{tabular}\n"
      ],
      "text/markdown": [
       "\n",
       "A matrix: 3 × 3 of type dbl\n",
       "\n",
       "| <!--/--> | OR | 2.5 % | 97.5 % |\n",
       "|---|---|---|---|\n",
       "| (Intercept) | 365281817524772157355004671690490773504.000000 | 9670737298594921392032508873201942528.0000000 | 13797376776389878444138791488242474549248.000000 |\n",
       "| eye |                                       1.284951 |                                     0.1947698 |                                         8.477185 |\n",
       "| skin2 |                                       2.892060 |                                     1.3339074 |                                         6.270310 |\n",
       "\n"
      ],
      "text/plain": [
       "            OR                                            \n",
       "(Intercept) 365281817524772157355004671690490773504.000000\n",
       "eye                                               1.284951\n",
       "skin2                                             2.892060\n",
       "            2.5 %                                        \n",
       "(Intercept) 9670737298594921392032508873201942528.0000000\n",
       "eye                                             0.1947698\n",
       "skin2                                           1.3339074\n",
       "            97.5 %                                          \n",
       "(Intercept) 13797376776389878444138791488242474549248.000000\n",
       "eye                                                 8.477185\n",
       "skin2                                               6.270310"
      ]
     },
     "metadata": {},
     "output_type": "display_data"
    }
   ],
   "source": [
    "# Printing OR and 95% CI:\n",
    "exp(cbind(OR = coef(model1), confint(model1)))"
   ]
  },
  {
   "cell_type": "markdown",
   "metadata": {},
   "source": [
    "### Model 2"
   ]
  },
  {
   "cell_type": "code",
   "execution_count": 187,
   "metadata": {},
   "outputs": [],
   "source": [
    "model2 = glm(cbind(age + ethnic0 + school_gp + cancerinfamily + BMI + skin2) ~ sunburn_fq + adultpw_gp3, data=data)\n",
    "#summary(model2)"
   ]
  },
  {
   "cell_type": "code",
   "execution_count": 189,
   "metadata": {},
   "outputs": [],
   "source": [
    "# Printing OR and 95% CI:\n",
    "#exp(cbind(OR = coef(model2), confint(model2)))"
   ]
  },
  {
   "cell_type": "code",
   "execution_count": null,
   "metadata": {},
   "outputs": [],
   "source": []
  }
 ],
 "metadata": {
  "kernelspec": {
   "display_name": "R",
   "language": "R",
   "name": "ir"
  },
  "language_info": {
   "codemirror_mode": "r",
   "file_extension": ".r",
   "mimetype": "text/x-r-source",
   "name": "R",
   "pygments_lexer": "r",
   "version": "3.6.2"
  },
  "toc": {
   "base_numbering": 1,
   "nav_menu": {},
   "number_sections": true,
   "sideBar": true,
   "skip_h1_title": false,
   "title_cell": "Table of Contents",
   "title_sidebar": "Contents",
   "toc_cell": false,
   "toc_position": {},
   "toc_section_display": true,
   "toc_window_display": false
  }
 },
 "nbformat": 4,
 "nbformat_minor": 4
}
