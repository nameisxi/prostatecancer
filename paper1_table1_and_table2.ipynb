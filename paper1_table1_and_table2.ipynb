{
 "cells": [
  {
   "cell_type": "code",
   "execution_count": 55,
   "metadata": {},
   "outputs": [],
   "source": [
    "import numpy as np\n",
    "from scipy.stats import chi2_contingency\n",
    "\n",
    "import pandas as pd\n",
    "\n",
    "from IPython.display import display, display_html"
   ]
  },
  {
   "cell_type": "code",
   "execution_count": 56,
   "metadata": {},
   "outputs": [],
   "source": [
    "def display_side_by_side(*args):\n",
    "    html_str=''\n",
    "    for df in args:\n",
    "        html_str+=df.to_html()\n",
    "    display_html(html_str.replace('table','table style=\"display:inline\"'),raw=True)"
   ]
  },
  {
   "cell_type": "code",
   "execution_count": 57,
   "metadata": {},
   "outputs": [],
   "source": [
    "data = pd.read_csv('./Prostate_cancer_micronutrients.csv')"
   ]
  },
  {
   "cell_type": "markdown",
   "metadata": {},
   "source": [
    "# Sun Exposure and the Risk of Prostate Cancer in the Singapore Prostate Cancer Study: Table 1"
   ]
  },
  {
   "cell_type": "markdown",
   "metadata": {},
   "source": [
    "### Basic overview"
   ]
  },
  {
   "cell_type": "code",
   "execution_count": 58,
   "metadata": {
    "scrolled": true
   },
   "outputs": [
    {
     "data": {
      "text/plain": [
       "(524, 833)"
      ]
     },
     "execution_count": 58,
     "metadata": {},
     "output_type": "execute_result"
    }
   ],
   "source": [
    "data.shape"
   ]
  },
  {
   "cell_type": "code",
   "execution_count": 294,
   "metadata": {
    "scrolled": true
   },
   "outputs": [],
   "source": [
    "#with pd.option_context('display.max_rows', None, 'display.max_columns', None): \n",
    "#    display(data.head().transpose())"
   ]
  },
  {
   "cell_type": "markdown",
   "metadata": {},
   "source": [
    "\"Family history of any cancer in the first degree relatives\" could be anything from emorehistory to histo_sgh. Gotta get back to this later on."
   ]
  },
  {
   "cell_type": "code",
   "execution_count": 60,
   "metadata": {},
   "outputs": [],
   "source": [
    "def printNullCount(columns):\n",
    "    for c in columns:\n",
    "        if len(data[data[c].isna()]) > 0:\n",
    "            print(c, \":\", len(data[data[c].isna()]))"
   ]
  },
  {
   "cell_type": "markdown",
   "metadata": {},
   "source": [
    "Are textual and their categorical columns identical when it comes to the number of NaNs?"
   ]
  },
  {
   "cell_type": "code",
   "execution_count": 61,
   "metadata": {
    "scrolled": false
   },
   "outputs": [
    {
     "name": "stdout",
     "output_type": "stream",
     "text": [
      "ethnic : 11\n",
      "ethnic0 : 11\n"
     ]
    }
   ],
   "source": [
    "printNullCount(['ethnic', 'ethnic0'])"
   ]
  },
  {
   "cell_type": "code",
   "execution_count": 62,
   "metadata": {},
   "outputs": [
    {
     "name": "stdout",
     "output_type": "stream",
     "text": [
      "housing : 11\n",
      "housingGrp : 19\n"
     ]
    }
   ],
   "source": [
    "printNullCount(['housing', 'housingGrp'])"
   ]
  },
  {
   "cell_type": "markdown",
   "metadata": {},
   "source": [
    "Nope!"
   ]
  },
  {
   "cell_type": "code",
   "execution_count": 63,
   "metadata": {},
   "outputs": [],
   "source": [
    "# Sun Exposure and the Risk of Prostate Cancer in the Singapore Prostate Cancer Study: A Case-control Study\n",
    "# Table 1 - couldn't find the family cancer history column.\n",
    "columns = ['age', 'ethnic', 'ethnic0', 'housing', 'housingGrp', 'school_gp', 'marital', 'BMI', 'BMI_gp']"
   ]
  },
  {
   "cell_type": "markdown",
   "metadata": {},
   "source": [
    "### Characteristics"
   ]
  },
  {
   "cell_type": "code",
   "execution_count": 64,
   "metadata": {},
   "outputs": [
    {
     "data": {
      "text/plain": [
       "{0.0, 1.0, nan, nan, nan, nan, nan, nan, nan, nan, nan, nan, nan}"
      ]
     },
     "execution_count": 64,
     "metadata": {},
     "output_type": "execute_result"
    }
   ],
   "source": [
    "set(data.casectrl)"
   ]
  },
  {
   "cell_type": "code",
   "execution_count": 65,
   "metadata": {},
   "outputs": [
    {
     "data": {
      "text/plain": [
       "(268, 245)"
      ]
     },
     "execution_count": 65,
     "metadata": {},
     "output_type": "execute_result"
    }
   ],
   "source": [
    "len(data[data.casectrl == 0]), len(data[data.casectrl == 1])"
   ]
  },
  {
   "cell_type": "markdown",
   "metadata": {},
   "source": [
    "As you can see, the number of casectrl == 0 is correct, but the number of casectrl == 1 is a bit too high compared to the 240 in the paper. This means that we have to find five rows to drop that don't affect the casectrl == 0 count."
   ]
  },
  {
   "cell_type": "code",
   "execution_count": 66,
   "metadata": {
    "scrolled": true
   },
   "outputs": [
    {
     "name": "stdout",
     "output_type": "stream",
     "text": [
      "age : 11\n",
      "ethnic : 11\n",
      "ethnic0 : 11\n",
      "housing : 11\n",
      "housingGrp : 19\n",
      "school_gp : 14\n",
      "marital : 13\n",
      "BMI : 123\n",
      "BMI_gp : 123\n"
     ]
    }
   ],
   "source": [
    "printNullCount(columns)"
   ]
  },
  {
   "cell_type": "code",
   "execution_count": 67,
   "metadata": {},
   "outputs": [],
   "source": [
    "#for c in columns:\n",
    "#    data = data[data[c].isnull() == False]\n",
    "#printNullCount(columns)"
   ]
  },
  {
   "cell_type": "code",
   "execution_count": 68,
   "metadata": {},
   "outputs": [],
   "source": [
    "controls_data = data[data.casectrl == 0]\n",
    "case_data = data[data.casectrl == 1]"
   ]
  },
  {
   "cell_type": "code",
   "execution_count": 69,
   "metadata": {
    "scrolled": false
   },
   "outputs": [
    {
     "data": {
      "text/plain": [
       "(268, 245)"
      ]
     },
     "execution_count": 69,
     "metadata": {},
     "output_type": "execute_result"
    }
   ],
   "source": [
    "len(controls_data), len(case_data)"
   ]
  },
  {
   "cell_type": "markdown",
   "metadata": {},
   "source": [
    "### Age"
   ]
  },
  {
   "cell_type": "code",
   "execution_count": 70,
   "metadata": {},
   "outputs": [],
   "source": [
    "age_controls_table = {}\n",
    "age_case_table = {}"
   ]
  },
  {
   "cell_type": "code",
   "execution_count": 71,
   "metadata": {},
   "outputs": [],
   "source": [
    "# n\n",
    "age_controls_table['age_count_50-59'] = len(controls_data[(controls_data.age >= 50) & (controls_data.age <= 59)])\n",
    "age_controls_table['age_count_60-69'] = len(controls_data[(controls_data.age >= 60) & (controls_data.age <= 69)])\n",
    "age_controls_table['age_count_70-'] = len(controls_data[controls_data.age >= 70])\n",
    "\n",
    "# (%)\n",
    "age_controls_table['age_percentage_50-59'] = age_controls_table['age_count_50-59'] / len(controls_data.age)\n",
    "age_controls_table['age_percentage_60-69'] = age_controls_table['age_count_60-69'] / len(controls_data.age)\n",
    "age_controls_table['age_percentage_70-'] = age_controls_table['age_count_70-'] / len(controls_data.age)\n",
    "\n",
    "# n\n",
    "age_case_table['age_count_50-59'] = len(case_data[(case_data.age >= 50) & (case_data.age <= 59)])\n",
    "age_case_table['age_count_60-69'] = len(case_data[(case_data.age >= 60) & (case_data.age <= 69)])\n",
    "age_case_table['age_count_70-'] = len(case_data[case_data.age >= 70])\n",
    "\n",
    "# (%)\n",
    "age_case_table['age_percentage_50-59'] = age_case_table['age_count_50-59'] / len(case_data.age)\n",
    "age_case_table['age_percentage_60-69'] = age_case_table['age_count_60-69'] / len(case_data.age)\n",
    "age_case_table['age_percentage_70-'] = age_case_table['age_count_70-'] / len(case_data.age)"
   ]
  },
  {
   "cell_type": "code",
   "execution_count": 72,
   "metadata": {},
   "outputs": [
    {
     "data": {
      "text/html": [
       "<table style=\"display:inline\" border=\"1\" class=\"dataframe\">\n",
       "  <thead>\n",
       "    <tr style=\"text-align: right;\">\n",
       "      <th></th>\n",
       "      <th>Age</th>\n",
       "      <th>n / (%)</th>\n",
       "    </tr>\n",
       "  </thead>\n",
       "  <tbody>\n",
       "    <tr>\n",
       "      <th>0</th>\n",
       "      <td>age_count_50-59</td>\n",
       "      <td>91.000000</td>\n",
       "    </tr>\n",
       "    <tr>\n",
       "      <th>1</th>\n",
       "      <td>age_count_60-69</td>\n",
       "      <td>86.000000</td>\n",
       "    </tr>\n",
       "    <tr>\n",
       "      <th>2</th>\n",
       "      <td>age_count_70-</td>\n",
       "      <td>69.000000</td>\n",
       "    </tr>\n",
       "    <tr>\n",
       "      <th>3</th>\n",
       "      <td>age_percentage_50-59</td>\n",
       "      <td>0.339552</td>\n",
       "    </tr>\n",
       "    <tr>\n",
       "      <th>4</th>\n",
       "      <td>age_percentage_60-69</td>\n",
       "      <td>0.320896</td>\n",
       "    </tr>\n",
       "    <tr>\n",
       "      <th>5</th>\n",
       "      <td>age_percentage_70-</td>\n",
       "      <td>0.257463</td>\n",
       "    </tr>\n",
       "  </tbody>\n",
       "</table style=\"display:inline\"><table style=\"display:inline\" border=\"1\" class=\"dataframe\">\n",
       "  <thead>\n",
       "    <tr style=\"text-align: right;\">\n",
       "      <th></th>\n",
       "      <th>Age</th>\n",
       "      <th>n / (%)</th>\n",
       "    </tr>\n",
       "  </thead>\n",
       "  <tbody>\n",
       "    <tr>\n",
       "      <th>0</th>\n",
       "      <td>age_count_50-59</td>\n",
       "      <td>36.000000</td>\n",
       "    </tr>\n",
       "    <tr>\n",
       "      <th>1</th>\n",
       "      <td>age_count_60-69</td>\n",
       "      <td>98.000000</td>\n",
       "    </tr>\n",
       "    <tr>\n",
       "      <th>2</th>\n",
       "      <td>age_count_70-</td>\n",
       "      <td>90.000000</td>\n",
       "    </tr>\n",
       "    <tr>\n",
       "      <th>3</th>\n",
       "      <td>age_percentage_50-59</td>\n",
       "      <td>0.146939</td>\n",
       "    </tr>\n",
       "    <tr>\n",
       "      <th>4</th>\n",
       "      <td>age_percentage_60-69</td>\n",
       "      <td>0.400000</td>\n",
       "    </tr>\n",
       "    <tr>\n",
       "      <th>5</th>\n",
       "      <td>age_percentage_70-</td>\n",
       "      <td>0.367347</td>\n",
       "    </tr>\n",
       "  </tbody>\n",
       "</table style=\"display:inline\">"
      ]
     },
     "metadata": {},
     "output_type": "display_data"
    }
   ],
   "source": [
    "df1 = pd.DataFrame(age_controls_table.items(), columns=['Age', 'n / (%)'])\n",
    "df2 = pd.DataFrame(age_case_table.items(), columns=['Age', 'n / (%)'])\n",
    "display_side_by_side(df1, df2)"
   ]
  },
  {
   "cell_type": "code",
   "execution_count": 73,
   "metadata": {},
   "outputs": [
    {
     "name": "stdout",
     "output_type": "stream",
     "text": [
      "0.00000185\n"
     ]
    }
   ],
   "source": [
    "a = np.array([[df1.iloc[0,1], df2.iloc[0,1]], \n",
    "              [df1.iloc[1,1], df2.iloc[1,1]], \n",
    "              [df1.iloc[2,1], df2.iloc[2,1]]])\n",
    "\n",
    "_, p_value, _, _ = chi2_contingency(a)\n",
    "print(format(p_value, '.8f'))"
   ]
  },
  {
   "cell_type": "markdown",
   "metadata": {},
   "source": [
    "### Ethnic"
   ]
  },
  {
   "cell_type": "code",
   "execution_count": 74,
   "metadata": {},
   "outputs": [
    {
     "data": {
      "text/plain": [
       "{'Chinese', 'Indian', 'Malay', 'Others', nan}"
      ]
     },
     "execution_count": 74,
     "metadata": {},
     "output_type": "execute_result"
    }
   ],
   "source": [
    "set(data.ethnic)"
   ]
  },
  {
   "cell_type": "code",
   "execution_count": 75,
   "metadata": {},
   "outputs": [],
   "source": [
    "ethnic_controls_table = {}\n",
    "ethnic_case_table = {}"
   ]
  },
  {
   "cell_type": "code",
   "execution_count": 76,
   "metadata": {},
   "outputs": [],
   "source": [
    "# n\n",
    "ethnic_controls_table['chinese_count'] = len(controls_data[(controls_data.ethnic == 'Chinese')])\n",
    "ethnic_controls_table['malay_count'] = len(controls_data[(controls_data.ethnic == 'Malay')])\n",
    "ethnic_controls_table['indian_count'] = len(controls_data[controls_data.ethnic == 'Indian'])\n",
    "ethnic_controls_table['others_count'] = len(controls_data[controls_data.ethnic == 'Others'])\n",
    "\n",
    "# (%)\n",
    "ethnic_controls_table['chinese_percentage'] = ethnic_controls_table['chinese_count'] / len(controls_data.ethnic)\n",
    "ethnic_controls_table['malay_percentage'] = ethnic_controls_table['malay_count'] / len(controls_data.ethnic)\n",
    "ethnic_controls_table['indian_percentage'] = ethnic_controls_table['indian_count'] / len(controls_data.ethnic)\n",
    "ethnic_controls_table['others_percentage'] = ethnic_controls_table['others_count'] / len(controls_data.ethnic)\n",
    "\n",
    "# n\n",
    "ethnic_case_table['chinese_count'] = len(case_data[(case_data.ethnic == 'Chinese')])\n",
    "ethnic_case_table['malay_count'] = len(case_data[(case_data.ethnic == 'Malay')])\n",
    "ethnic_case_table['indian_count'] = len(case_data[case_data.ethnic == 'Indian'])\n",
    "ethnic_case_table['others_count'] = len(case_data[case_data.ethnic == 'Others'])\n",
    "\n",
    "# (%)\n",
    "ethnic_case_table['chinese_percentage'] = ethnic_case_table['chinese_count'] / len(case_data.ethnic)\n",
    "ethnic_case_table['malay_percentage'] = ethnic_case_table['malay_count'] / len(case_data.ethnic)\n",
    "ethnic_case_table['indian_percentage'] = ethnic_case_table['indian_count'] / len(case_data.ethnic)\n",
    "ethnic_case_table['others_percentage'] = ethnic_case_table['others_count'] / len(case_data.ethnic)"
   ]
  },
  {
   "cell_type": "code",
   "execution_count": 77,
   "metadata": {},
   "outputs": [
    {
     "data": {
      "text/html": [
       "<table style=\"display:inline\" border=\"1\" class=\"dataframe\">\n",
       "  <thead>\n",
       "    <tr style=\"text-align: right;\">\n",
       "      <th></th>\n",
       "      <th>Ethnic</th>\n",
       "      <th>n / (%)</th>\n",
       "    </tr>\n",
       "  </thead>\n",
       "  <tbody>\n",
       "    <tr>\n",
       "      <th>0</th>\n",
       "      <td>chinese_count</td>\n",
       "      <td>225.000000</td>\n",
       "    </tr>\n",
       "    <tr>\n",
       "      <th>1</th>\n",
       "      <td>malay_count</td>\n",
       "      <td>13.000000</td>\n",
       "    </tr>\n",
       "    <tr>\n",
       "      <th>2</th>\n",
       "      <td>indian_count</td>\n",
       "      <td>23.000000</td>\n",
       "    </tr>\n",
       "    <tr>\n",
       "      <th>3</th>\n",
       "      <td>others_count</td>\n",
       "      <td>7.000000</td>\n",
       "    </tr>\n",
       "    <tr>\n",
       "      <th>4</th>\n",
       "      <td>chinese_percentage</td>\n",
       "      <td>0.839552</td>\n",
       "    </tr>\n",
       "    <tr>\n",
       "      <th>5</th>\n",
       "      <td>malay_percentage</td>\n",
       "      <td>0.048507</td>\n",
       "    </tr>\n",
       "    <tr>\n",
       "      <th>6</th>\n",
       "      <td>indian_percentage</td>\n",
       "      <td>0.085821</td>\n",
       "    </tr>\n",
       "    <tr>\n",
       "      <th>7</th>\n",
       "      <td>others_percentage</td>\n",
       "      <td>0.026119</td>\n",
       "    </tr>\n",
       "  </tbody>\n",
       "</table style=\"display:inline\"><table style=\"display:inline\" border=\"1\" class=\"dataframe\">\n",
       "  <thead>\n",
       "    <tr style=\"text-align: right;\">\n",
       "      <th></th>\n",
       "      <th>Ethnic</th>\n",
       "      <th>n / (%)</th>\n",
       "    </tr>\n",
       "  </thead>\n",
       "  <tbody>\n",
       "    <tr>\n",
       "      <th>0</th>\n",
       "      <td>chinese_count</td>\n",
       "      <td>214.000000</td>\n",
       "    </tr>\n",
       "    <tr>\n",
       "      <th>1</th>\n",
       "      <td>malay_count</td>\n",
       "      <td>13.000000</td>\n",
       "    </tr>\n",
       "    <tr>\n",
       "      <th>2</th>\n",
       "      <td>indian_count</td>\n",
       "      <td>13.000000</td>\n",
       "    </tr>\n",
       "    <tr>\n",
       "      <th>3</th>\n",
       "      <td>others_count</td>\n",
       "      <td>5.000000</td>\n",
       "    </tr>\n",
       "    <tr>\n",
       "      <th>4</th>\n",
       "      <td>chinese_percentage</td>\n",
       "      <td>0.873469</td>\n",
       "    </tr>\n",
       "    <tr>\n",
       "      <th>5</th>\n",
       "      <td>malay_percentage</td>\n",
       "      <td>0.053061</td>\n",
       "    </tr>\n",
       "    <tr>\n",
       "      <th>6</th>\n",
       "      <td>indian_percentage</td>\n",
       "      <td>0.053061</td>\n",
       "    </tr>\n",
       "    <tr>\n",
       "      <th>7</th>\n",
       "      <td>others_percentage</td>\n",
       "      <td>0.020408</td>\n",
       "    </tr>\n",
       "  </tbody>\n",
       "</table style=\"display:inline\">"
      ]
     },
     "metadata": {},
     "output_type": "display_data"
    }
   ],
   "source": [
    "df1 = pd.DataFrame(ethnic_controls_table.items(), columns=['Ethnic', 'n / (%)'])\n",
    "df2 = pd.DataFrame(ethnic_case_table.items(), columns=['Ethnic', 'n / (%)'])\n",
    "display_side_by_side(df1, df2)"
   ]
  },
  {
   "cell_type": "code",
   "execution_count": 78,
   "metadata": {},
   "outputs": [
    {
     "name": "stdout",
     "output_type": "stream",
     "text": [
      "0.50106888\n"
     ]
    }
   ],
   "source": [
    "a = np.array([[df1.iloc[0,1], df2.iloc[0,1]], \n",
    "              [df1.iloc[1,1], df2.iloc[1,1]], \n",
    "              [df1.iloc[2,1], df2.iloc[2,1]],\n",
    "              [df1.iloc[3,1], df2.iloc[3,1]]])\n",
    "\n",
    "_, p_value, _, _ = chi2_contingency(a)\n",
    "print(format(p_value, '.8f'))"
   ]
  },
  {
   "cell_type": "markdown",
   "metadata": {},
   "source": [
    "### Housing"
   ]
  },
  {
   "cell_type": "code",
   "execution_count": 79,
   "metadata": {},
   "outputs": [
    {
     "data": {
      "text/plain": [
       "{'HDB 1-3room', 'HDB 4room', 'Others', 'Private condo', nan}"
      ]
     },
     "execution_count": 79,
     "metadata": {},
     "output_type": "execute_result"
    }
   ],
   "source": [
    "set(data.housing)"
   ]
  },
  {
   "cell_type": "code",
   "execution_count": 80,
   "metadata": {},
   "outputs": [],
   "source": [
    "housing_controls_table = {}\n",
    "housing_case_table = {}"
   ]
  },
  {
   "cell_type": "code",
   "execution_count": 81,
   "metadata": {},
   "outputs": [],
   "source": [
    "# n\n",
    "housing_controls_table['hdb_1-3_room_count'] = len(controls_data[(controls_data.housing == 'HDB 1-3room')])\n",
    "housing_controls_table['hdb_4_room_count'] = len(controls_data[(controls_data.housing == 'HDB 4room')])\n",
    "housing_controls_table['private_condo_count'] = len(controls_data[controls_data.housing == 'Private condo'])\n",
    "housing_controls_table['others_count'] = len(controls_data[controls_data.housing == 'Others'])\n",
    "\n",
    "# (%)\n",
    "housing_controls_table['hdb_1-3_room_percentage'] = housing_controls_table['hdb_1-3_room_count'] / len(controls_data.housing)\n",
    "housing_controls_table['hdb_4_room_percentage'] = housing_controls_table['hdb_4_room_count'] / len(controls_data.housing)\n",
    "housing_controls_table['private_condo_percentage'] = housing_controls_table['private_condo_count'] / len(controls_data.housing)\n",
    "housing_controls_table['others_percentage'] = housing_controls_table['others_count'] / len(controls_data.housing)\n",
    "\n",
    "# n\n",
    "housing_case_table['hdb_1-3_room_count'] = len(case_data[(case_data.housing == 'HDB 1-3room')])\n",
    "housing_case_table['hdb_4_room_count'] = len(case_data[(case_data.housing == 'HDB 4room')])\n",
    "housing_case_table['private_condo_count'] = len(case_data[case_data.housing == 'Private condo'])\n",
    "housing_case_table['others_count'] = len(case_data[case_data.housing == 'Others'])\n",
    "\n",
    "# (%)\n",
    "housing_case_table['hdb_1-3_room_percentage'] = housing_case_table['hdb_1-3_room_count'] / len(case_data.housing)\n",
    "housing_case_table['hdb_4_room_percentage'] = housing_case_table['hdb_4_room_count'] / len(case_data.housing)\n",
    "housing_case_table['private_condo_percentage'] = housing_case_table['private_condo_count'] / len(case_data.housing)\n",
    "housing_case_table['others_percentage'] = housing_case_table['others_count'] / len(case_data.housing)"
   ]
  },
  {
   "cell_type": "code",
   "execution_count": 82,
   "metadata": {},
   "outputs": [
    {
     "data": {
      "text/html": [
       "<table style=\"display:inline\" border=\"1\" class=\"dataframe\">\n",
       "  <thead>\n",
       "    <tr style=\"text-align: right;\">\n",
       "      <th></th>\n",
       "      <th>Housing</th>\n",
       "      <th>n / (%)</th>\n",
       "    </tr>\n",
       "  </thead>\n",
       "  <tbody>\n",
       "    <tr>\n",
       "      <th>0</th>\n",
       "      <td>hdb_1-3_room_count</td>\n",
       "      <td>73.000000</td>\n",
       "    </tr>\n",
       "    <tr>\n",
       "      <th>1</th>\n",
       "      <td>hdb_4_room_count</td>\n",
       "      <td>154.000000</td>\n",
       "    </tr>\n",
       "    <tr>\n",
       "      <th>2</th>\n",
       "      <td>private_condo_count</td>\n",
       "      <td>29.000000</td>\n",
       "    </tr>\n",
       "    <tr>\n",
       "      <th>3</th>\n",
       "      <td>others_count</td>\n",
       "      <td>12.000000</td>\n",
       "    </tr>\n",
       "    <tr>\n",
       "      <th>4</th>\n",
       "      <td>hdb_1-3_room_percentage</td>\n",
       "      <td>0.272388</td>\n",
       "    </tr>\n",
       "    <tr>\n",
       "      <th>5</th>\n",
       "      <td>hdb_4_room_percentage</td>\n",
       "      <td>0.574627</td>\n",
       "    </tr>\n",
       "    <tr>\n",
       "      <th>6</th>\n",
       "      <td>private_condo_percentage</td>\n",
       "      <td>0.108209</td>\n",
       "    </tr>\n",
       "    <tr>\n",
       "      <th>7</th>\n",
       "      <td>others_percentage</td>\n",
       "      <td>0.044776</td>\n",
       "    </tr>\n",
       "  </tbody>\n",
       "</table style=\"display:inline\"><table style=\"display:inline\" border=\"1\" class=\"dataframe\">\n",
       "  <thead>\n",
       "    <tr style=\"text-align: right;\">\n",
       "      <th></th>\n",
       "      <th>Housing</th>\n",
       "      <th>n / (%)</th>\n",
       "    </tr>\n",
       "  </thead>\n",
       "  <tbody>\n",
       "    <tr>\n",
       "      <th>0</th>\n",
       "      <td>hdb_1-3_room_count</td>\n",
       "      <td>40.000000</td>\n",
       "    </tr>\n",
       "    <tr>\n",
       "      <th>1</th>\n",
       "      <td>hdb_4_room_count</td>\n",
       "      <td>115.000000</td>\n",
       "    </tr>\n",
       "    <tr>\n",
       "      <th>2</th>\n",
       "      <td>private_condo_count</td>\n",
       "      <td>86.000000</td>\n",
       "    </tr>\n",
       "    <tr>\n",
       "      <th>3</th>\n",
       "      <td>others_count</td>\n",
       "      <td>4.000000</td>\n",
       "    </tr>\n",
       "    <tr>\n",
       "      <th>4</th>\n",
       "      <td>hdb_1-3_room_percentage</td>\n",
       "      <td>0.163265</td>\n",
       "    </tr>\n",
       "    <tr>\n",
       "      <th>5</th>\n",
       "      <td>hdb_4_room_percentage</td>\n",
       "      <td>0.469388</td>\n",
       "    </tr>\n",
       "    <tr>\n",
       "      <th>6</th>\n",
       "      <td>private_condo_percentage</td>\n",
       "      <td>0.351020</td>\n",
       "    </tr>\n",
       "    <tr>\n",
       "      <th>7</th>\n",
       "      <td>others_percentage</td>\n",
       "      <td>0.016327</td>\n",
       "    </tr>\n",
       "  </tbody>\n",
       "</table style=\"display:inline\">"
      ]
     },
     "metadata": {},
     "output_type": "display_data"
    }
   ],
   "source": [
    "df1 = pd.DataFrame(housing_controls_table.items(), columns=['Housing', 'n / (%)'])\n",
    "df2 = pd.DataFrame(housing_case_table.items(), columns=['Housing', 'n / (%)'])\n",
    "display_side_by_side(df1, df2)"
   ]
  },
  {
   "cell_type": "code",
   "execution_count": 83,
   "metadata": {},
   "outputs": [
    {
     "name": "stdout",
     "output_type": "stream",
     "text": [
      "0.00000000\n"
     ]
    }
   ],
   "source": [
    "a = np.array([[df1.iloc[0,1], df2.iloc[0,1]], \n",
    "              [df1.iloc[1,1], df2.iloc[1,1]], \n",
    "              [df1.iloc[2,1], df2.iloc[2,1]],\n",
    "              [df1.iloc[3,1], df2.iloc[3,1]]])\n",
    "\n",
    "_, p_value, _, _ = chi2_contingency(a)\n",
    "print(format(p_value, '.8f'))"
   ]
  },
  {
   "cell_type": "markdown",
   "metadata": {},
   "source": [
    "### Education"
   ]
  },
  {
   "cell_type": "code",
   "execution_count": 84,
   "metadata": {},
   "outputs": [
    {
     "data": {
      "text/plain": [
       "{0.0,\n",
       " 1.0,\n",
       " 2.0,\n",
       " 3.0,\n",
       " nan,\n",
       " nan,\n",
       " nan,\n",
       " nan,\n",
       " nan,\n",
       " nan,\n",
       " nan,\n",
       " nan,\n",
       " nan,\n",
       " nan,\n",
       " nan,\n",
       " nan,\n",
       " nan,\n",
       " nan}"
      ]
     },
     "execution_count": 84,
     "metadata": {},
     "output_type": "execute_result"
    }
   ],
   "source": [
    "set(data.school_gp)"
   ]
  },
  {
   "cell_type": "markdown",
   "metadata": {},
   "source": [
    "I believe that the values 0 to 3 map straight to the categories on the paper, but let's make sure:"
   ]
  },
  {
   "cell_type": "code",
   "execution_count": 85,
   "metadata": {},
   "outputs": [
    {
     "name": "stdout",
     "output_type": "stream",
     "text": [
      "26\n",
      "146\n",
      "185\n",
      "153\n"
     ]
    }
   ],
   "source": [
    "print(len(data[data.school_gp == 0])) # should be ~ 26\n",
    "print(len(data[data.school_gp == 1])) # should be ~ 144\n",
    "print(len(data[data.school_gp == 2])) # should be ~ 184\n",
    "print(len(data[data.school_gp == 3])) # should be ~ 151"
   ]
  },
  {
   "cell_type": "markdown",
   "metadata": {},
   "source": [
    "Okay, looks good."
   ]
  },
  {
   "cell_type": "code",
   "execution_count": 86,
   "metadata": {},
   "outputs": [],
   "source": [
    "education_controls_table = {}\n",
    "education_case_table = {}"
   ]
  },
  {
   "cell_type": "code",
   "execution_count": 87,
   "metadata": {},
   "outputs": [],
   "source": [
    "# n\n",
    "education_controls_table['never_count'] = len(controls_data[(controls_data.school_gp == 0)])\n",
    "education_controls_table['1-6_years_count'] = len(controls_data[(controls_data.school_gp == 1)])\n",
    "education_controls_table['7-10_years_count'] = len(controls_data[controls_data.school_gp == 2])\n",
    "education_controls_table['10-_count'] = len(controls_data[controls_data.school_gp == 3])\n",
    "\n",
    "# (%)\n",
    "education_controls_table['never_percentage'] = education_controls_table['never_count'] / len(controls_data.school_gp)\n",
    "education_controls_table['1-6_years_percentage'] = education_controls_table['1-6_years_count'] / len(controls_data.school_gp)\n",
    "education_controls_table['7-10_years_percentage'] = education_controls_table['7-10_years_count'] / len(controls_data.school_gp)\n",
    "education_controls_table['10-_percentage'] = education_controls_table['10-_count'] / len(controls_data.school_gp)\n",
    "\n",
    "# n\n",
    "education_case_table['never_count'] = len(case_data[(case_data.school_gp == 0)])\n",
    "education_case_table['1-6_years_count'] = len(case_data[(case_data.school_gp == 1)])\n",
    "education_case_table['7-10_years_count'] = len(case_data[case_data.school_gp == 2])\n",
    "education_case_table['10-_count'] = len(case_data[case_data.school_gp == 3])\n",
    "\n",
    "# (%)\n",
    "education_case_table['never_percentage'] = education_case_table['never_count'] / len(case_data.school_gp)\n",
    "education_case_table['1-6_years_percentage'] = education_case_table['1-6_years_count'] / len(case_data.school_gp)\n",
    "education_case_table['7-10_years_percentage'] = education_case_table['7-10_years_count'] / len(case_data.school_gp)\n",
    "education_case_table['10-_percentage'] = education_case_table['10-_count'] / len(case_data.school_gp)"
   ]
  },
  {
   "cell_type": "code",
   "execution_count": 88,
   "metadata": {},
   "outputs": [
    {
     "data": {
      "text/html": [
       "<table style=\"display:inline\" border=\"1\" class=\"dataframe\">\n",
       "  <thead>\n",
       "    <tr style=\"text-align: right;\">\n",
       "      <th></th>\n",
       "      <th>Education</th>\n",
       "      <th>n / (%)</th>\n",
       "    </tr>\n",
       "  </thead>\n",
       "  <tbody>\n",
       "    <tr>\n",
       "      <th>0</th>\n",
       "      <td>never_count</td>\n",
       "      <td>20.000000</td>\n",
       "    </tr>\n",
       "    <tr>\n",
       "      <th>1</th>\n",
       "      <td>1-6_years_count</td>\n",
       "      <td>89.000000</td>\n",
       "    </tr>\n",
       "    <tr>\n",
       "      <th>2</th>\n",
       "      <td>7-10_years_count</td>\n",
       "      <td>102.000000</td>\n",
       "    </tr>\n",
       "    <tr>\n",
       "      <th>3</th>\n",
       "      <td>10-_count</td>\n",
       "      <td>55.000000</td>\n",
       "    </tr>\n",
       "    <tr>\n",
       "      <th>4</th>\n",
       "      <td>never_percentage</td>\n",
       "      <td>0.074627</td>\n",
       "    </tr>\n",
       "    <tr>\n",
       "      <th>5</th>\n",
       "      <td>1-6_years_percentage</td>\n",
       "      <td>0.332090</td>\n",
       "    </tr>\n",
       "    <tr>\n",
       "      <th>6</th>\n",
       "      <td>7-10_years_percentage</td>\n",
       "      <td>0.380597</td>\n",
       "    </tr>\n",
       "    <tr>\n",
       "      <th>7</th>\n",
       "      <td>10-_percentage</td>\n",
       "      <td>0.205224</td>\n",
       "    </tr>\n",
       "  </tbody>\n",
       "</table style=\"display:inline\"><table style=\"display:inline\" border=\"1\" class=\"dataframe\">\n",
       "  <thead>\n",
       "    <tr style=\"text-align: right;\">\n",
       "      <th></th>\n",
       "      <th>Education</th>\n",
       "      <th>n / (%)</th>\n",
       "    </tr>\n",
       "  </thead>\n",
       "  <tbody>\n",
       "    <tr>\n",
       "      <th>0</th>\n",
       "      <td>never_count</td>\n",
       "      <td>6.000000</td>\n",
       "    </tr>\n",
       "    <tr>\n",
       "      <th>1</th>\n",
       "      <td>1-6_years_count</td>\n",
       "      <td>57.000000</td>\n",
       "    </tr>\n",
       "    <tr>\n",
       "      <th>2</th>\n",
       "      <td>7-10_years_count</td>\n",
       "      <td>83.000000</td>\n",
       "    </tr>\n",
       "    <tr>\n",
       "      <th>3</th>\n",
       "      <td>10-_count</td>\n",
       "      <td>98.000000</td>\n",
       "    </tr>\n",
       "    <tr>\n",
       "      <th>4</th>\n",
       "      <td>never_percentage</td>\n",
       "      <td>0.024490</td>\n",
       "    </tr>\n",
       "    <tr>\n",
       "      <th>5</th>\n",
       "      <td>1-6_years_percentage</td>\n",
       "      <td>0.232653</td>\n",
       "    </tr>\n",
       "    <tr>\n",
       "      <th>6</th>\n",
       "      <td>7-10_years_percentage</td>\n",
       "      <td>0.338776</td>\n",
       "    </tr>\n",
       "    <tr>\n",
       "      <th>7</th>\n",
       "      <td>10-_percentage</td>\n",
       "      <td>0.400000</td>\n",
       "    </tr>\n",
       "  </tbody>\n",
       "</table style=\"display:inline\">"
      ]
     },
     "metadata": {},
     "output_type": "display_data"
    }
   ],
   "source": [
    "df1 = pd.DataFrame(education_controls_table.items(), columns=['Education', 'n / (%)'])\n",
    "df2 = pd.DataFrame(education_case_table.items(), columns=['Education', 'n / (%)'])\n",
    "display_side_by_side(df1, df2)"
   ]
  },
  {
   "cell_type": "code",
   "execution_count": 89,
   "metadata": {},
   "outputs": [
    {
     "name": "stdout",
     "output_type": "stream",
     "text": [
      "0.00000422\n"
     ]
    }
   ],
   "source": [
    "a = np.array([[df1.iloc[0,1], df2.iloc[0,1]], \n",
    "              [df1.iloc[1,1], df2.iloc[1,1]], \n",
    "              [df1.iloc[2,1], df2.iloc[2,1]],\n",
    "              [df1.iloc[3,1], df2.iloc[3,1]],])\n",
    "\n",
    "_, p_value, _, _ = chi2_contingency(a)\n",
    "print(format(p_value, '.8f'))"
   ]
  },
  {
   "cell_type": "markdown",
   "metadata": {},
   "source": [
    "### Marital status"
   ]
  },
  {
   "cell_type": "code",
   "execution_count": 90,
   "metadata": {},
   "outputs": [
    {
     "data": {
      "text/plain": [
       "{0.0,\n",
       " 1.0,\n",
       " 2.0,\n",
       " nan,\n",
       " nan,\n",
       " nan,\n",
       " nan,\n",
       " nan,\n",
       " nan,\n",
       " nan,\n",
       " nan,\n",
       " nan,\n",
       " nan,\n",
       " nan,\n",
       " nan,\n",
       " nan}"
      ]
     },
     "execution_count": 90,
     "metadata": {},
     "output_type": "execute_result"
    }
   ],
   "source": [
    "set(data.marital)"
   ]
  },
  {
   "cell_type": "markdown",
   "metadata": {},
   "source": [
    "Once again, I'm expected 0 to 2 to map to the categories in the paper - married, separated, and never married that is."
   ]
  },
  {
   "cell_type": "code",
   "execution_count": 91,
   "metadata": {},
   "outputs": [
    {
     "name": "stdout",
     "output_type": "stream",
     "text": [
      "448\n",
      "35\n",
      "28\n"
     ]
    }
   ],
   "source": [
    "print(len(data[data.marital== 0])) # should be ~ 443\n",
    "print(len(data[data.marital == 1])) # should be ~ 35\n",
    "print(len(data[data.marital == 2])) # should be ~ 28"
   ]
  },
  {
   "cell_type": "markdown",
   "metadata": {},
   "source": [
    "Yup, it seems to work as planned."
   ]
  },
  {
   "cell_type": "code",
   "execution_count": 92,
   "metadata": {},
   "outputs": [],
   "source": [
    "marital_controls_table = {}\n",
    "marital_case_table = {}"
   ]
  },
  {
   "cell_type": "code",
   "execution_count": 93,
   "metadata": {},
   "outputs": [],
   "source": [
    "# n\n",
    "marital_controls_table['currently_married_count'] = len(controls_data[(controls_data.marital == 0)])\n",
    "marital_controls_table['separated_count'] = len(controls_data[(controls_data.marital == 1)])\n",
    "marital_controls_table['never_married_count'] = len(controls_data[controls_data.marital == 2])\n",
    "\n",
    "# (%)\n",
    "marital_controls_table['currently_married_percentage'] = marital_controls_table['currently_married_count'] / len(controls_data.marital)\n",
    "marital_controls_table['separated_percentage'] = marital_controls_table['separated_count'] / len(controls_data.marital)\n",
    "marital_controls_table['never_married_percentage'] = marital_controls_table['never_married_count'] / len(controls_data.marital)\n",
    "\n",
    "# n\n",
    "marital_case_table['currently_married_count'] = len(case_data[(case_data.marital == 0)])\n",
    "marital_case_table['separated_count'] = len(case_data[(case_data.marital == 1)])\n",
    "marital_case_table['never_married_count'] = len(case_data[case_data.marital == 2])\n",
    "\n",
    "# (%)\n",
    "marital_case_table['currently_married_percentage'] = marital_case_table['currently_married_count'] / len(case_data.marital)\n",
    "marital_case_table['separated_percentage'] = marital_case_table['separated_count'] / len(case_data.marital)\n",
    "marital_case_table['never_married_percentage'] = marital_case_table['never_married_count'] / len(case_data.marital)"
   ]
  },
  {
   "cell_type": "code",
   "execution_count": 94,
   "metadata": {},
   "outputs": [
    {
     "data": {
      "text/html": [
       "<table style=\"display:inline\" border=\"1\" class=\"dataframe\">\n",
       "  <thead>\n",
       "    <tr style=\"text-align: right;\">\n",
       "      <th></th>\n",
       "      <th>Marital status</th>\n",
       "      <th>n / (%)</th>\n",
       "    </tr>\n",
       "  </thead>\n",
       "  <tbody>\n",
       "    <tr>\n",
       "      <th>0</th>\n",
       "      <td>currently_married_count</td>\n",
       "      <td>224.000000</td>\n",
       "    </tr>\n",
       "    <tr>\n",
       "      <th>1</th>\n",
       "      <td>separated_count</td>\n",
       "      <td>26.000000</td>\n",
       "    </tr>\n",
       "    <tr>\n",
       "      <th>2</th>\n",
       "      <td>never_married_count</td>\n",
       "      <td>17.000000</td>\n",
       "    </tr>\n",
       "    <tr>\n",
       "      <th>3</th>\n",
       "      <td>currently_married_percentage</td>\n",
       "      <td>0.835821</td>\n",
       "    </tr>\n",
       "    <tr>\n",
       "      <th>4</th>\n",
       "      <td>separated_percentage</td>\n",
       "      <td>0.097015</td>\n",
       "    </tr>\n",
       "    <tr>\n",
       "      <th>5</th>\n",
       "      <td>never_married_percentage</td>\n",
       "      <td>0.063433</td>\n",
       "    </tr>\n",
       "  </tbody>\n",
       "</table style=\"display:inline\"><table style=\"display:inline\" border=\"1\" class=\"dataframe\">\n",
       "  <thead>\n",
       "    <tr style=\"text-align: right;\">\n",
       "      <th></th>\n",
       "      <th>Marital status</th>\n",
       "      <th>n / (%)</th>\n",
       "    </tr>\n",
       "  </thead>\n",
       "  <tbody>\n",
       "    <tr>\n",
       "      <th>0</th>\n",
       "      <td>currently_married_count</td>\n",
       "      <td>224.000000</td>\n",
       "    </tr>\n",
       "    <tr>\n",
       "      <th>1</th>\n",
       "      <td>separated_count</td>\n",
       "      <td>9.000000</td>\n",
       "    </tr>\n",
       "    <tr>\n",
       "      <th>2</th>\n",
       "      <td>never_married_count</td>\n",
       "      <td>11.000000</td>\n",
       "    </tr>\n",
       "    <tr>\n",
       "      <th>3</th>\n",
       "      <td>currently_married_percentage</td>\n",
       "      <td>0.914286</td>\n",
       "    </tr>\n",
       "    <tr>\n",
       "      <th>4</th>\n",
       "      <td>separated_percentage</td>\n",
       "      <td>0.036735</td>\n",
       "    </tr>\n",
       "    <tr>\n",
       "      <th>5</th>\n",
       "      <td>never_married_percentage</td>\n",
       "      <td>0.044898</td>\n",
       "    </tr>\n",
       "  </tbody>\n",
       "</table style=\"display:inline\">"
      ]
     },
     "metadata": {},
     "output_type": "display_data"
    }
   ],
   "source": [
    "df1 = pd.DataFrame(marital_controls_table.items(), columns=['Marital status', 'n / (%)'])\n",
    "df2 = pd.DataFrame(marital_case_table.items(), columns=['Marital status', 'n / (%)'])\n",
    "display_side_by_side(df1, df2)"
   ]
  },
  {
   "cell_type": "code",
   "execution_count": 95,
   "metadata": {},
   "outputs": [
    {
     "name": "stdout",
     "output_type": "stream",
     "text": [
      "0.01408773\n"
     ]
    }
   ],
   "source": [
    "a = np.array([[df1.iloc[0,1], df2.iloc[0,1]], \n",
    "              [df1.iloc[1,1], df2.iloc[1,1]], \n",
    "              [df1.iloc[2,1], df2.iloc[2,1]]])\n",
    "\n",
    "_, p_value, _, _ = chi2_contingency(a)\n",
    "print(format(p_value, '.8f'))"
   ]
  },
  {
   "cell_type": "markdown",
   "metadata": {},
   "source": [
    "### Family history of any cancer in the dirst degree relatives"
   ]
  },
  {
   "cell_type": "code",
   "execution_count": 129,
   "metadata": {},
   "outputs": [
    {
     "data": {
      "text/plain": [
       "{nan,\n",
       " 1.0,\n",
       " 2.0,\n",
       " 3.0,\n",
       " 4.0,\n",
       " nan,\n",
       " nan,\n",
       " nan,\n",
       " nan,\n",
       " nan,\n",
       " nan,\n",
       " 0.0,\n",
       " nan,\n",
       " nan,\n",
       " nan,\n",
       " nan,\n",
       " nan,\n",
       " nan,\n",
       " nan,\n",
       " 99.0,\n",
       " 333.0}"
      ]
     },
     "execution_count": 129,
     "metadata": {},
     "output_type": "execute_result"
    }
   ],
   "source": [
    "set(data.q4A1)"
   ]
  },
  {
   "cell_type": "code",
   "execution_count": 133,
   "metadata": {},
   "outputs": [
    {
     "name": "stdout",
     "output_type": "stream",
     "text": [
      "No cancer in family: 324\n",
      "Cancer in family: 152\n"
     ]
    }
   ],
   "source": [
    "print(\"No cancer in family:\", len(data[(data.q4A1 == 1)]))\n",
    "print(\"Cancer in family:\", len(data[(data.q4A1 == 2) | (data.q4A1 == 3)]))"
   ]
  },
  {
   "cell_type": "code",
   "execution_count": 135,
   "metadata": {},
   "outputs": [],
   "source": [
    "cif_controls_table = {}\n",
    "cif_case_table = {}"
   ]
  },
  {
   "cell_type": "code",
   "execution_count": 136,
   "metadata": {},
   "outputs": [],
   "source": [
    "# n\n",
    "cif_controls_table['cancer_in_family_count'] = len(controls_data[(controls_data.q4A1 == 2) | (controls_data.q4A1 == 3)])\n",
    "cif_controls_table['no_cancer_in_family_count'] = len(controls_data[(controls_data.q4A1 == 1)])\n",
    "\n",
    "# (%)\n",
    "cif_controls_table['cancer_in_family_percentage'] = cif_controls_table['cancer_in_family_count'] / len(controls_data.q4A1)\n",
    "cif_controls_table['no_cancer_in_family_percentage'] = cif_controls_table['no_cancer_in_family_count'] / len(controls_data.q4A1)\n",
    "\n",
    "# n\n",
    "cif_case_table['cancer_in_family_count'] = len(case_data[(case_data.q4A1 == 2) | (case_data.q4A1 == 3)])\n",
    "cif_case_table['no_cancer_in_family_count'] = len(case_data[(case_data.q4A1 == 1)])\n",
    "\n",
    "# (%)\n",
    "cif_case_table['cancer_in_family_percentage'] = cif_case_table['cancer_in_family_count'] / len(case_data.q4A1)\n",
    "cif_case_table['no_cancer_in_family_percentage'] = cif_case_table['no_cancer_in_family_count'] / len(case_data.q4A1)\n"
   ]
  },
  {
   "cell_type": "code",
   "execution_count": 140,
   "metadata": {},
   "outputs": [
    {
     "data": {
      "text/html": [
       "<table style=\"display:inline\" border=\"1\" class=\"dataframe\">\n",
       "  <thead>\n",
       "    <tr style=\"text-align: right;\">\n",
       "      <th></th>\n",
       "      <th>Cancer in family</th>\n",
       "      <th>n / (%)</th>\n",
       "    </tr>\n",
       "  </thead>\n",
       "  <tbody>\n",
       "    <tr>\n",
       "      <th>0</th>\n",
       "      <td>cancer_in_family_count</td>\n",
       "      <td>51.000000</td>\n",
       "    </tr>\n",
       "    <tr>\n",
       "      <th>1</th>\n",
       "      <td>no_cancer_in_family_count</td>\n",
       "      <td>198.000000</td>\n",
       "    </tr>\n",
       "    <tr>\n",
       "      <th>2</th>\n",
       "      <td>cancer_in_family_percentage</td>\n",
       "      <td>0.190299</td>\n",
       "    </tr>\n",
       "    <tr>\n",
       "      <th>3</th>\n",
       "      <td>no_cancer_in_family_percentage</td>\n",
       "      <td>0.738806</td>\n",
       "    </tr>\n",
       "  </tbody>\n",
       "</table style=\"display:inline\"><table style=\"display:inline\" border=\"1\" class=\"dataframe\">\n",
       "  <thead>\n",
       "    <tr style=\"text-align: right;\">\n",
       "      <th></th>\n",
       "      <th>Cancer in family</th>\n",
       "      <th>n / (%)</th>\n",
       "    </tr>\n",
       "  </thead>\n",
       "  <tbody>\n",
       "    <tr>\n",
       "      <th>0</th>\n",
       "      <td>cancer_in_family_count</td>\n",
       "      <td>101.000000</td>\n",
       "    </tr>\n",
       "    <tr>\n",
       "      <th>1</th>\n",
       "      <td>no_cancer_in_family_count</td>\n",
       "      <td>126.000000</td>\n",
       "    </tr>\n",
       "    <tr>\n",
       "      <th>2</th>\n",
       "      <td>cancer_in_family_percentage</td>\n",
       "      <td>0.412245</td>\n",
       "    </tr>\n",
       "    <tr>\n",
       "      <th>3</th>\n",
       "      <td>no_cancer_in_family_percentage</td>\n",
       "      <td>0.514286</td>\n",
       "    </tr>\n",
       "  </tbody>\n",
       "</table style=\"display:inline\">"
      ]
     },
     "metadata": {},
     "output_type": "display_data"
    }
   ],
   "source": [
    "df1 = pd.DataFrame(cif_controls_table.items(), columns=['Cancer in family', 'n / (%)'])\n",
    "df2 = pd.DataFrame(cif_case_table.items(), columns=['Cancer in family', 'n / (%)'])\n",
    "display_side_by_side(df1, df2)"
   ]
  },
  {
   "cell_type": "code",
   "execution_count": 142,
   "metadata": {},
   "outputs": [
    {
     "name": "stdout",
     "output_type": "stream",
     "text": [
      "0.00000004\n"
     ]
    }
   ],
   "source": [
    "a = np.array([[df1.iloc[0,1], df2.iloc[0,1]], \n",
    "              [df1.iloc[1,1], df2.iloc[1,1]]])\n",
    "\n",
    "_, p_value, _, _ = chi2_contingency(a)\n",
    "print(format(p_value, '.8f'))"
   ]
  },
  {
   "cell_type": "markdown",
   "metadata": {},
   "source": [
    "### BMI (kg/m2)"
   ]
  },
  {
   "cell_type": "code",
   "execution_count": 100,
   "metadata": {},
   "outputs": [
    {
     "data": {
      "text/plain": [
       "{nan,\n",
       " 1.0,\n",
       " 2.0,\n",
       " 3.0,\n",
       " 4.0,\n",
       " nan,\n",
       " nan,\n",
       " nan,\n",
       " nan,\n",
       " nan,\n",
       " nan,\n",
       " nan,\n",
       " nan,\n",
       " nan,\n",
       " nan,\n",
       " nan,\n",
       " nan,\n",
       " nan,\n",
       " nan,\n",
       " nan,\n",
       " nan,\n",
       " nan,\n",
       " nan,\n",
       " nan,\n",
       " nan,\n",
       " nan,\n",
       " nan,\n",
       " nan,\n",
       " nan,\n",
       " nan,\n",
       " nan,\n",
       " nan,\n",
       " nan,\n",
       " nan,\n",
       " nan,\n",
       " nan,\n",
       " nan,\n",
       " nan,\n",
       " nan,\n",
       " nan,\n",
       " nan,\n",
       " nan,\n",
       " nan,\n",
       " nan,\n",
       " nan,\n",
       " nan,\n",
       " nan,\n",
       " nan,\n",
       " nan,\n",
       " nan,\n",
       " nan,\n",
       " nan,\n",
       " nan,\n",
       " nan,\n",
       " nan,\n",
       " nan,\n",
       " nan,\n",
       " nan,\n",
       " nan,\n",
       " nan,\n",
       " nan,\n",
       " nan,\n",
       " nan,\n",
       " nan,\n",
       " nan,\n",
       " nan,\n",
       " nan,\n",
       " nan,\n",
       " nan,\n",
       " nan,\n",
       " nan,\n",
       " nan,\n",
       " nan,\n",
       " nan,\n",
       " nan,\n",
       " nan,\n",
       " nan,\n",
       " nan,\n",
       " nan,\n",
       " nan,\n",
       " nan,\n",
       " nan,\n",
       " nan,\n",
       " nan,\n",
       " nan,\n",
       " nan,\n",
       " nan,\n",
       " nan,\n",
       " nan,\n",
       " nan,\n",
       " nan,\n",
       " nan,\n",
       " nan,\n",
       " nan,\n",
       " nan,\n",
       " nan,\n",
       " nan,\n",
       " nan,\n",
       " nan,\n",
       " nan,\n",
       " nan,\n",
       " nan,\n",
       " nan,\n",
       " nan,\n",
       " nan,\n",
       " nan,\n",
       " nan,\n",
       " nan,\n",
       " nan,\n",
       " nan,\n",
       " nan,\n",
       " nan,\n",
       " nan,\n",
       " nan,\n",
       " nan,\n",
       " nan,\n",
       " nan,\n",
       " nan,\n",
       " nan,\n",
       " nan,\n",
       " nan,\n",
       " nan,\n",
       " nan,\n",
       " nan,\n",
       " nan,\n",
       " nan,\n",
       " nan}"
      ]
     },
     "execution_count": 100,
     "metadata": {},
     "output_type": "execute_result"
    }
   ],
   "source": [
    "set(data.BMI_gp)"
   ]
  },
  {
   "cell_type": "code",
   "execution_count": 101,
   "metadata": {},
   "outputs": [
    {
     "name": "stdout",
     "output_type": "stream",
     "text": [
      "118\n",
      "126\n",
      "87\n",
      "70\n"
     ]
    }
   ],
   "source": [
    "print(len(data[data.BMI_gp == 1])) # should be ~ 114\n",
    "print(len(data[data.BMI_gp == 2])) # should be ~ 126\n",
    "print(len(data[data.BMI_gp == 3])) # should be ~ 86\n",
    "print(len(data[data.BMI_gp == 4])) # should be ~ 70"
   ]
  },
  {
   "cell_type": "code",
   "execution_count": 102,
   "metadata": {},
   "outputs": [],
   "source": [
    "bmi_controls_table = {}\n",
    "bmi_case_table = {}"
   ]
  },
  {
   "cell_type": "code",
   "execution_count": 151,
   "metadata": {},
   "outputs": [],
   "source": [
    "# n\n",
    "bmi_controls_table['quartile1_count'] = len(controls_data[(controls_data.BMI_gp == 1)])\n",
    "bmi_controls_table['quartile2_count'] = len(controls_data[(controls_data.BMI_gp == 2)])\n",
    "bmi_controls_table['quartile3_count'] = len(controls_data[controls_data.BMI_gp == 3])\n",
    "bmi_controls_table['quartile4_count'] = len(controls_data[controls_data.BMI_gp == 4])\n",
    "\n",
    "# (%)\n",
    "bmi_controls_table['quartile1_percentage'] = bmi_controls_table['quartile1_count'] / len(controls_data.BMI_gp)\n",
    "bmi_controls_table['quartile2_percentage'] = bmi_controls_table['quartile2_count'] / len(controls_data.BMI_gp)\n",
    "bmi_controls_table['quartile3_percentage'] = bmi_controls_table['quartile3_count'] / len(controls_data.BMI_gp)\n",
    "bmi_controls_table['quartile4_percentage'] = bmi_controls_table['quartile4_count'] / len(controls_data.BMI_gp)\n",
    "\n",
    "# n\n",
    "bmi_case_table['quartile1_count'] = len(case_data[(case_data.BMI_gp == 1)])\n",
    "bmi_case_table['quartile2_count'] = len(case_data[(case_data.BMI_gp == 2)])\n",
    "bmi_case_table['quartile3_count'] = len(case_data[case_data.BMI_gp == 3])\n",
    "bmi_case_table['quartile4_count'] = len(case_data[case_data.BMI_gp == 4])\n",
    "\n",
    "# (%)\n",
    "bmi_case_table['quartile1_percentage'] = bmi_case_table['quartile1_count'] / len(case_data.BMI_gp)\n",
    "bmi_case_table['quartile2_percentage'] = bmi_case_table['quartile2_count'] / len(case_data.BMI_gp)\n",
    "bmi_case_table['quartile3_percentage'] = bmi_case_table['quartile3_count'] / len(case_data.BMI_gp)\n",
    "bmi_case_table['quartile4_percentage'] = bmi_case_table['quartile4_count'] / len(case_data.BMI_gp)\n"
   ]
  },
  {
   "cell_type": "code",
   "execution_count": 152,
   "metadata": {},
   "outputs": [
    {
     "data": {
      "text/html": [
       "<table style=\"display:inline\" border=\"1\" class=\"dataframe\">\n",
       "  <thead>\n",
       "    <tr style=\"text-align: right;\">\n",
       "      <th></th>\n",
       "      <th>BMI (kg/m2)</th>\n",
       "      <th>n / (%)</th>\n",
       "    </tr>\n",
       "  </thead>\n",
       "  <tbody>\n",
       "    <tr>\n",
       "      <th>0</th>\n",
       "      <td>quartile1_count</td>\n",
       "      <td>45.000000</td>\n",
       "    </tr>\n",
       "    <tr>\n",
       "      <th>1</th>\n",
       "      <td>quartile2_count</td>\n",
       "      <td>47.000000</td>\n",
       "    </tr>\n",
       "    <tr>\n",
       "      <th>2</th>\n",
       "      <td>quartile3_count</td>\n",
       "      <td>46.000000</td>\n",
       "    </tr>\n",
       "    <tr>\n",
       "      <th>3</th>\n",
       "      <td>quartile4_count</td>\n",
       "      <td>46.000000</td>\n",
       "    </tr>\n",
       "    <tr>\n",
       "      <th>4</th>\n",
       "      <td>quartile1_percentage</td>\n",
       "      <td>0.167910</td>\n",
       "    </tr>\n",
       "    <tr>\n",
       "      <th>5</th>\n",
       "      <td>quartile2_percentage</td>\n",
       "      <td>0.175373</td>\n",
       "    </tr>\n",
       "    <tr>\n",
       "      <th>6</th>\n",
       "      <td>quartile3_percentage</td>\n",
       "      <td>0.171642</td>\n",
       "    </tr>\n",
       "    <tr>\n",
       "      <th>7</th>\n",
       "      <td>quartile4_percentage</td>\n",
       "      <td>0.171642</td>\n",
       "    </tr>\n",
       "  </tbody>\n",
       "</table style=\"display:inline\"><table style=\"display:inline\" border=\"1\" class=\"dataframe\">\n",
       "  <thead>\n",
       "    <tr style=\"text-align: right;\">\n",
       "      <th></th>\n",
       "      <th>BMI (kg/m2)</th>\n",
       "      <th>n / (%)</th>\n",
       "    </tr>\n",
       "  </thead>\n",
       "  <tbody>\n",
       "    <tr>\n",
       "      <th>0</th>\n",
       "      <td>quartile1_count</td>\n",
       "      <td>73.000000</td>\n",
       "    </tr>\n",
       "    <tr>\n",
       "      <th>1</th>\n",
       "      <td>quartile2_count</td>\n",
       "      <td>79.000000</td>\n",
       "    </tr>\n",
       "    <tr>\n",
       "      <th>2</th>\n",
       "      <td>quartile3_count</td>\n",
       "      <td>41.000000</td>\n",
       "    </tr>\n",
       "    <tr>\n",
       "      <th>3</th>\n",
       "      <td>quartile4_count</td>\n",
       "      <td>24.000000</td>\n",
       "    </tr>\n",
       "    <tr>\n",
       "      <th>4</th>\n",
       "      <td>quartile1_percentage</td>\n",
       "      <td>0.297959</td>\n",
       "    </tr>\n",
       "    <tr>\n",
       "      <th>5</th>\n",
       "      <td>quartile2_percentage</td>\n",
       "      <td>0.322449</td>\n",
       "    </tr>\n",
       "    <tr>\n",
       "      <th>6</th>\n",
       "      <td>quartile3_percentage</td>\n",
       "      <td>0.167347</td>\n",
       "    </tr>\n",
       "    <tr>\n",
       "      <th>7</th>\n",
       "      <td>quartile4_percentage</td>\n",
       "      <td>0.097959</td>\n",
       "    </tr>\n",
       "  </tbody>\n",
       "</table style=\"display:inline\">"
      ]
     },
     "metadata": {},
     "output_type": "display_data"
    }
   ],
   "source": [
    "df1 = pd.DataFrame(bmi_controls_table.items(), columns=['BMI (kg/m2)', 'n / (%)'])\n",
    "df2 = pd.DataFrame(bmi_case_table.items(), columns=['BMI (kg/m2)', 'n / (%)'])\n",
    "display_side_by_side(df1, df2)"
   ]
  },
  {
   "cell_type": "code",
   "execution_count": 153,
   "metadata": {},
   "outputs": [
    {
     "name": "stdout",
     "output_type": "stream",
     "text": [
      "0.00022724\n"
     ]
    }
   ],
   "source": [
    "a = np.array([[df1.iloc[0,1], df2.iloc[0,1]], \n",
    "              [df1.iloc[1,1], df2.iloc[1,1]], \n",
    "              [df1.iloc[2,1], df2.iloc[2,1]],\n",
    "              [df1.iloc[3,1], df2.iloc[3,1]]])\n",
    "\n",
    "_, p_value, _, _ = chi2_contingency(a)\n",
    "print(format(p_value, '.8f'))"
   ]
  },
  {
   "cell_type": "markdown",
   "metadata": {},
   "source": [
    "# Sun Exposure and the Risk of Prostate Cancer in the Singapore Prostate Cancer Study: Table 2"
   ]
  },
  {
   "cell_type": "markdown",
   "metadata": {},
   "source": [
    "### Eye colour"
   ]
  },
  {
   "cell_type": "code",
   "execution_count": 144,
   "metadata": {},
   "outputs": [
    {
     "data": {
      "text/plain": [
       "{nan,\n",
       " 1.0,\n",
       " 2.0,\n",
       " nan,\n",
       " nan,\n",
       " 3.0,\n",
       " nan,\n",
       " nan,\n",
       " nan,\n",
       " nan,\n",
       " nan,\n",
       " nan,\n",
       " nan,\n",
       " nan,\n",
       " nan,\n",
       " nan,\n",
       " nan,\n",
       " nan,\n",
       " nan,\n",
       " nan}"
      ]
     },
     "execution_count": 144,
     "metadata": {},
     "output_type": "execute_result"
    }
   ],
   "source": [
    "set(data.eye)"
   ]
  },
  {
   "cell_type": "code",
   "execution_count": 143,
   "metadata": {},
   "outputs": [],
   "source": [
    "eye_controls_table = {}\n",
    "eye_case_table = {}"
   ]
  },
  {
   "cell_type": "code",
   "execution_count": 154,
   "metadata": {},
   "outputs": [],
   "source": [
    "# n\n",
    "eye_controls_table['black_or_dark_brown_count'] = len(controls_data[(controls_data.eye == 1)])\n",
    "eye_controls_table['light_brown_count'] = len(controls_data[(controls_data.eye == 2)])\n",
    "\n",
    "# (%)\n",
    "eye_controls_table['black_or_dark_brown_percentage'] = eye_controls_table['black_or_dark_brown_count'] / len(controls_data.eye)\n",
    "eye_controls_table['light_brown_percentage'] = eye_controls_table['light_brown_count'] / len(controls_data.eye)\n",
    "\n",
    "# n\n",
    "eye_case_table['black_or_dark_brown_count'] = len(case_data[(case_data.eye == 1)])\n",
    "eye_case_table['light_brown_count'] = len(case_data[(case_data.eye == 2)])\n",
    "\n",
    "# (%)\n",
    "eye_case_table['black_or_dark_brown_percentage'] = eye_case_table['black_or_dark_brown_count'] / len(case_data.eye)\n",
    "eye_case_table['light_brown_percentage'] = eye_case_table['light_brown_count'] / len(case_data.eye)\n"
   ]
  },
  {
   "cell_type": "code",
   "execution_count": 155,
   "metadata": {},
   "outputs": [
    {
     "data": {
      "text/html": [
       "<table style=\"display:inline\" border=\"1\" class=\"dataframe\">\n",
       "  <thead>\n",
       "    <tr style=\"text-align: right;\">\n",
       "      <th></th>\n",
       "      <th>BMI (kg/m2)</th>\n",
       "      <th>n / (%)</th>\n",
       "    </tr>\n",
       "  </thead>\n",
       "  <tbody>\n",
       "    <tr>\n",
       "      <th>0</th>\n",
       "      <td>black_or_dark_brown_count</td>\n",
       "      <td>169.000000</td>\n",
       "    </tr>\n",
       "    <tr>\n",
       "      <th>1</th>\n",
       "      <td>light_brown_count</td>\n",
       "      <td>97.000000</td>\n",
       "    </tr>\n",
       "    <tr>\n",
       "      <th>2</th>\n",
       "      <td>black_or_dark_brown_percentage</td>\n",
       "      <td>0.630597</td>\n",
       "    </tr>\n",
       "    <tr>\n",
       "      <th>3</th>\n",
       "      <td>light_brown_percentage</td>\n",
       "      <td>0.361940</td>\n",
       "    </tr>\n",
       "  </tbody>\n",
       "</table style=\"display:inline\"><table style=\"display:inline\" border=\"1\" class=\"dataframe\">\n",
       "  <thead>\n",
       "    <tr style=\"text-align: right;\">\n",
       "      <th></th>\n",
       "      <th>BMI (kg/m2)</th>\n",
       "      <th>n / (%)</th>\n",
       "    </tr>\n",
       "  </thead>\n",
       "  <tbody>\n",
       "    <tr>\n",
       "      <th>0</th>\n",
       "      <td>black_or_dark_brown_count</td>\n",
       "      <td>214.000000</td>\n",
       "    </tr>\n",
       "    <tr>\n",
       "      <th>1</th>\n",
       "      <td>light_brown_count</td>\n",
       "      <td>25.000000</td>\n",
       "    </tr>\n",
       "    <tr>\n",
       "      <th>2</th>\n",
       "      <td>black_or_dark_brown_percentage</td>\n",
       "      <td>0.873469</td>\n",
       "    </tr>\n",
       "    <tr>\n",
       "      <th>3</th>\n",
       "      <td>light_brown_percentage</td>\n",
       "      <td>0.102041</td>\n",
       "    </tr>\n",
       "  </tbody>\n",
       "</table style=\"display:inline\">"
      ]
     },
     "metadata": {},
     "output_type": "display_data"
    }
   ],
   "source": [
    "df1 = pd.DataFrame(eye_controls_table.items(), columns=['BMI (kg/m2)', 'n / (%)'])\n",
    "df2 = pd.DataFrame(eye_case_table.items(), columns=['BMI (kg/m2)', 'n / (%)'])\n",
    "display_side_by_side(df1, df2)"
   ]
  },
  {
   "cell_type": "code",
   "execution_count": 158,
   "metadata": {},
   "outputs": [
    {
     "name": "stdout",
     "output_type": "stream",
     "text": [
      "0.000000000019\n"
     ]
    }
   ],
   "source": [
    "a = np.array([[df1.iloc[0,1], df2.iloc[0,1]], \n",
    "              [df1.iloc[1,1], df2.iloc[1,1]]])\n",
    "\n",
    "_, p_value, _, _ = chi2_contingency(a)\n",
    "print(format(p_value, '.12f'))"
   ]
  },
  {
   "cell_type": "markdown",
   "metadata": {},
   "source": [
    "### Skin colour"
   ]
  },
  {
   "cell_type": "code",
   "execution_count": 165,
   "metadata": {},
   "outputs": [
    {
     "data": {
      "text/plain": [
       "{nan,\n",
       " 1.0,\n",
       " nan,\n",
       " 3.0,\n",
       " 4.0,\n",
       " nan,\n",
       " nan,\n",
       " nan,\n",
       " nan,\n",
       " nan,\n",
       " nan,\n",
       " nan,\n",
       " nan,\n",
       " nan,\n",
       " nan,\n",
       " nan,\n",
       " nan,\n",
       " nan,\n",
       " nan,\n",
       " nan}"
      ]
     },
     "execution_count": 165,
     "metadata": {},
     "output_type": "execute_result"
    }
   ],
   "source": [
    "set(data.skin2)"
   ]
  },
  {
   "cell_type": "code",
   "execution_count": 169,
   "metadata": {},
   "outputs": [
    {
     "data": {
      "text/plain": [
       "(106, 248, 153)"
      ]
     },
     "execution_count": 169,
     "metadata": {},
     "output_type": "execute_result"
    }
   ],
   "source": [
    "len(data[data.skin2 == 1]), len(data[data.skin2 == 3]), len(data[data.skin2 == 4])"
   ]
  },
  {
   "cell_type": "code",
   "execution_count": 171,
   "metadata": {},
   "outputs": [],
   "source": [
    "skin_controls_table = {}\n",
    "skin_case_table = {}"
   ]
  },
  {
   "cell_type": "code",
   "execution_count": 172,
   "metadata": {},
   "outputs": [],
   "source": [
    "# n\n",
    "skin_controls_table['white_count'] = len(controls_data[(controls_data.skin2 == 1)])\n",
    "skin_controls_table['light_tan_count'] = len(controls_data[controls_data.skin2 == 3])\n",
    "skin_controls_table['tan_brown_black_count'] = len(controls_data[controls_data.skin2 == 4])\n",
    "\n",
    "# (%)\n",
    "skin_controls_table['white_percentage'] = skin_controls_table['white_count'] / len(controls_data.skin2)\n",
    "skin_controls_table['light_tan_percentage'] = skin_controls_table['light_tan_count'] / len(controls_data.skin2)\n",
    "skin_controls_table['tan_brown_black_percentage'] = skin_controls_table['tan_brown_black_count'] / len(controls_data.skin2)\n",
    "\n",
    "# n\n",
    "skin_case_table['white_count'] = len(case_data[(case_data.skin2 == 1)])\n",
    "skin_case_table['light_tan_count'] = len(case_data[case_data.skin2 == 3])\n",
    "skin_case_table['tan_brown_black_count'] = len(case_data[case_data.skin2 == 4])\n",
    "\n",
    "# (%)\n",
    "skin_case_table['white_percentage'] = skin_case_table['white_count'] / len(case_data.skin2)\n",
    "skin_case_table['light_tan_percentage'] = skin_case_table['light_tan_count'] / len(case_data.skin2)\n",
    "skin_case_table['tan_brown_black_percentage'] = skin_case_table['tan_brown_black_count'] / len(case_data.skin2)\n"
   ]
  },
  {
   "cell_type": "code",
   "execution_count": 175,
   "metadata": {},
   "outputs": [
    {
     "data": {
      "text/html": [
       "<table style=\"display:inline\" border=\"1\" class=\"dataframe\">\n",
       "  <thead>\n",
       "    <tr style=\"text-align: right;\">\n",
       "      <th></th>\n",
       "      <th>Skin colour</th>\n",
       "      <th>n / (%)</th>\n",
       "    </tr>\n",
       "  </thead>\n",
       "  <tbody>\n",
       "    <tr>\n",
       "      <th>0</th>\n",
       "      <td>white_count</td>\n",
       "      <td>80.000000</td>\n",
       "    </tr>\n",
       "    <tr>\n",
       "      <th>1</th>\n",
       "      <td>light_tan_count</td>\n",
       "      <td>116.000000</td>\n",
       "    </tr>\n",
       "    <tr>\n",
       "      <th>2</th>\n",
       "      <td>tan_brown_black_count</td>\n",
       "      <td>72.000000</td>\n",
       "    </tr>\n",
       "    <tr>\n",
       "      <th>3</th>\n",
       "      <td>white_percentage</td>\n",
       "      <td>0.298507</td>\n",
       "    </tr>\n",
       "    <tr>\n",
       "      <th>4</th>\n",
       "      <td>light_tan_percentage</td>\n",
       "      <td>0.432836</td>\n",
       "    </tr>\n",
       "    <tr>\n",
       "      <th>5</th>\n",
       "      <td>tan_brown_black_percentage</td>\n",
       "      <td>0.268657</td>\n",
       "    </tr>\n",
       "  </tbody>\n",
       "</table style=\"display:inline\"><table style=\"display:inline\" border=\"1\" class=\"dataframe\">\n",
       "  <thead>\n",
       "    <tr style=\"text-align: right;\">\n",
       "      <th></th>\n",
       "      <th>Skin colour</th>\n",
       "      <th>n / (%)</th>\n",
       "    </tr>\n",
       "  </thead>\n",
       "  <tbody>\n",
       "    <tr>\n",
       "      <th>0</th>\n",
       "      <td>white_count</td>\n",
       "      <td>26.000000</td>\n",
       "    </tr>\n",
       "    <tr>\n",
       "      <th>1</th>\n",
       "      <td>light_tan_count</td>\n",
       "      <td>132.000000</td>\n",
       "    </tr>\n",
       "    <tr>\n",
       "      <th>2</th>\n",
       "      <td>tan_brown_black_count</td>\n",
       "      <td>81.000000</td>\n",
       "    </tr>\n",
       "    <tr>\n",
       "      <th>3</th>\n",
       "      <td>white_percentage</td>\n",
       "      <td>0.106122</td>\n",
       "    </tr>\n",
       "    <tr>\n",
       "      <th>4</th>\n",
       "      <td>light_tan_percentage</td>\n",
       "      <td>0.538776</td>\n",
       "    </tr>\n",
       "    <tr>\n",
       "      <th>5</th>\n",
       "      <td>tan_brown_black_percentage</td>\n",
       "      <td>0.330612</td>\n",
       "    </tr>\n",
       "  </tbody>\n",
       "</table style=\"display:inline\">"
      ]
     },
     "metadata": {},
     "output_type": "display_data"
    }
   ],
   "source": [
    "df1 = pd.DataFrame(skin_controls_table.items(), columns=['Skin colour', 'n / (%)'])\n",
    "df2 = pd.DataFrame(skin_case_table.items(), columns=['Skin colour', 'n / (%)'])\n",
    "display_side_by_side(df1, df2)"
   ]
  },
  {
   "cell_type": "code",
   "execution_count": 176,
   "metadata": {},
   "outputs": [
    {
     "name": "stdout",
     "output_type": "stream",
     "text": [
      "0.00000107\n"
     ]
    }
   ],
   "source": [
    "a = np.array([[df1.iloc[0,1], df2.iloc[0,1]], \n",
    "              [df1.iloc[1,1], df2.iloc[1,1]], \n",
    "              [df1.iloc[2,1], df2.iloc[2,1]]])\n",
    "\n",
    "_, p_value, _, _ = chi2_contingency(a)\n",
    "print(format(p_value, '.8f'))"
   ]
  },
  {
   "cell_type": "markdown",
   "metadata": {},
   "source": [
    "### Sunburn frequency"
   ]
  },
  {
   "cell_type": "code",
   "execution_count": 182,
   "metadata": {},
   "outputs": [
    {
     "data": {
      "text/plain": [
       "{'Frequently', 'None', 'Occasionally', 'Seldom', nan}"
      ]
     },
     "execution_count": 182,
     "metadata": {},
     "output_type": "execute_result"
    }
   ],
   "source": [
    "set(data.sunburn_fq)"
   ]
  },
  {
   "cell_type": "code",
   "execution_count": 184,
   "metadata": {},
   "outputs": [
    {
     "data": {
      "text/plain": [
       "(261, 259)"
      ]
     },
     "execution_count": 184,
     "metadata": {},
     "output_type": "execute_result"
    }
   ],
   "source": [
    "len(data[data.sunburn_fq == \"None\"]), 147+112"
   ]
  },
  {
   "cell_type": "code",
   "execution_count": 185,
   "metadata": {},
   "outputs": [
    {
     "data": {
      "text/plain": [
       "(127, 126)"
      ]
     },
     "execution_count": 185,
     "metadata": {},
     "output_type": "execute_result"
    }
   ],
   "source": [
    "len(data[data.sunburn_fq == \"Seldom\"]), 70+56"
   ]
  },
  {
   "cell_type": "code",
   "execution_count": 186,
   "metadata": {},
   "outputs": [
    {
     "data": {
      "text/plain": [
       "(59, 57)"
      ]
     },
     "execution_count": 186,
     "metadata": {},
     "output_type": "execute_result"
    }
   ],
   "source": [
    "len(data[data.sunburn_fq == \"Occasionally\"]), 24+33"
   ]
  },
  {
   "cell_type": "code",
   "execution_count": 187,
   "metadata": {},
   "outputs": [
    {
     "data": {
      "text/plain": [
       "(45, 45)"
      ]
     },
     "execution_count": 187,
     "metadata": {},
     "output_type": "execute_result"
    }
   ],
   "source": [
    "len(data[data.sunburn_fq == \"Frequently\"]), 15+30"
   ]
  },
  {
   "cell_type": "code",
   "execution_count": 189,
   "metadata": {},
   "outputs": [],
   "source": [
    "sunburn_controls_table = {}\n",
    "sunburn_case_table = {}"
   ]
  },
  {
   "cell_type": "code",
   "execution_count": 190,
   "metadata": {},
   "outputs": [],
   "source": [
    "# n\n",
    "sunburn_controls_table['never_count'] = len(controls_data[(controls_data.sunburn_fq == \"None\")])\n",
    "sunburn_controls_table['seldom_count'] = len(controls_data[(controls_data.sunburn_fq == \"Seldom\")])\n",
    "sunburn_controls_table['occasionally_count'] = len(controls_data[controls_data.sunburn_fq == \"Occasionally\"])\n",
    "sunburn_controls_table['frequently_count'] = len(controls_data[controls_data.sunburn_fq == \"Frequently\"])\n",
    "\n",
    "# (%)\n",
    "sunburn_controls_table['never_percentage'] = sunburn_controls_table['never_count'] / len(controls_data.sunburn_fq)\n",
    "sunburn_controls_table['seldom_percentage'] = sunburn_controls_table['seldom_count'] / len(controls_data.sunburn_fq)\n",
    "sunburn_controls_table['occasionally_percentage'] = sunburn_controls_table['occasionally_count'] / len(controls_data.sunburn_fq)\n",
    "sunburn_controls_table['frequently_percentage'] = sunburn_controls_table['frequently_count'] / len(controls_data.sunburn_fq)\n",
    "\n",
    "# n\n",
    "sunburn_case_table['never_count'] = len(case_data[(case_data.sunburn_fq == \"None\")])\n",
    "sunburn_case_table['seldom_count'] = len(case_data[(case_data.sunburn_fq == \"Seldom\")])\n",
    "sunburn_case_table['occasionally_count'] = len(case_data[case_data.sunburn_fq == \"Occasionally\"])\n",
    "sunburn_case_table['frequently_count'] = len(case_data[case_data.sunburn_fq == \"Frequently\"])\n",
    "\n",
    "# (%)\n",
    "sunburn_case_table['never_percentage'] = sunburn_case_table['never_count'] / len(case_data.sunburn_fq)\n",
    "sunburn_case_table['seldom_percentage'] = sunburn_case_table['seldom_count'] / len(case_data.sunburn_fq)\n",
    "sunburn_case_table['occasionally_percentage'] = sunburn_case_table['occasionally_count'] / len(case_data.sunburn_fq)\n",
    "sunburn_case_table['frequently_percentage'] = sunburn_case_table['frequently_count'] / len(case_data.sunburn_fq)\n"
   ]
  },
  {
   "cell_type": "code",
   "execution_count": 191,
   "metadata": {},
   "outputs": [
    {
     "data": {
      "text/html": [
       "<table style=\"display:inline\" border=\"1\" class=\"dataframe\">\n",
       "  <thead>\n",
       "    <tr style=\"text-align: right;\">\n",
       "      <th></th>\n",
       "      <th>Sunburn frequency</th>\n",
       "      <th>n / (%)</th>\n",
       "    </tr>\n",
       "  </thead>\n",
       "  <tbody>\n",
       "    <tr>\n",
       "      <th>0</th>\n",
       "      <td>never_count</td>\n",
       "      <td>147.000000</td>\n",
       "    </tr>\n",
       "    <tr>\n",
       "      <th>1</th>\n",
       "      <td>seldom_count</td>\n",
       "      <td>70.000000</td>\n",
       "    </tr>\n",
       "    <tr>\n",
       "      <th>2</th>\n",
       "      <td>occasionally_count</td>\n",
       "      <td>24.000000</td>\n",
       "    </tr>\n",
       "    <tr>\n",
       "      <th>3</th>\n",
       "      <td>frequently_count</td>\n",
       "      <td>15.000000</td>\n",
       "    </tr>\n",
       "    <tr>\n",
       "      <th>4</th>\n",
       "      <td>never_percentage</td>\n",
       "      <td>0.548507</td>\n",
       "    </tr>\n",
       "    <tr>\n",
       "      <th>5</th>\n",
       "      <td>seldom_percentage</td>\n",
       "      <td>0.261194</td>\n",
       "    </tr>\n",
       "    <tr>\n",
       "      <th>6</th>\n",
       "      <td>occasionally_percentage</td>\n",
       "      <td>0.089552</td>\n",
       "    </tr>\n",
       "    <tr>\n",
       "      <th>7</th>\n",
       "      <td>frequently_percentage</td>\n",
       "      <td>0.055970</td>\n",
       "    </tr>\n",
       "  </tbody>\n",
       "</table style=\"display:inline\"><table style=\"display:inline\" border=\"1\" class=\"dataframe\">\n",
       "  <thead>\n",
       "    <tr style=\"text-align: right;\">\n",
       "      <th></th>\n",
       "      <th>Sunburn frequency</th>\n",
       "      <th>n / (%)</th>\n",
       "    </tr>\n",
       "  </thead>\n",
       "  <tbody>\n",
       "    <tr>\n",
       "      <th>0</th>\n",
       "      <td>never_count</td>\n",
       "      <td>114.000000</td>\n",
       "    </tr>\n",
       "    <tr>\n",
       "      <th>1</th>\n",
       "      <td>seldom_count</td>\n",
       "      <td>57.000000</td>\n",
       "    </tr>\n",
       "    <tr>\n",
       "      <th>2</th>\n",
       "      <td>occasionally_count</td>\n",
       "      <td>35.000000</td>\n",
       "    </tr>\n",
       "    <tr>\n",
       "      <th>3</th>\n",
       "      <td>frequently_count</td>\n",
       "      <td>30.000000</td>\n",
       "    </tr>\n",
       "    <tr>\n",
       "      <th>4</th>\n",
       "      <td>never_percentage</td>\n",
       "      <td>0.465306</td>\n",
       "    </tr>\n",
       "    <tr>\n",
       "      <th>5</th>\n",
       "      <td>seldom_percentage</td>\n",
       "      <td>0.232653</td>\n",
       "    </tr>\n",
       "    <tr>\n",
       "      <th>6</th>\n",
       "      <td>occasionally_percentage</td>\n",
       "      <td>0.142857</td>\n",
       "    </tr>\n",
       "    <tr>\n",
       "      <th>7</th>\n",
       "      <td>frequently_percentage</td>\n",
       "      <td>0.122449</td>\n",
       "    </tr>\n",
       "  </tbody>\n",
       "</table style=\"display:inline\">"
      ]
     },
     "metadata": {},
     "output_type": "display_data"
    }
   ],
   "source": [
    "df1 = pd.DataFrame(sunburn_controls_table.items(), columns=['Sunburn frequency', 'n / (%)'])\n",
    "df2 = pd.DataFrame(sunburn_case_table.items(), columns=['Sunburn frequency', 'n / (%)'])\n",
    "display_side_by_side(df1, df2)"
   ]
  },
  {
   "cell_type": "code",
   "execution_count": 192,
   "metadata": {},
   "outputs": [
    {
     "name": "stdout",
     "output_type": "stream",
     "text": [
      "0.00825068\n"
     ]
    }
   ],
   "source": [
    "a = np.array([[df1.iloc[0,1], df2.iloc[0,1]], \n",
    "              [df1.iloc[1,1], df2.iloc[1,1]], \n",
    "              [df1.iloc[2,1], df2.iloc[2,1]],\n",
    "              [df1.iloc[3,1], df2.iloc[3,1]]])\n",
    "\n",
    "_, p_value, _, _ = chi2_contingency(a)\n",
    "print(format(p_value, '.8f'))"
   ]
  },
  {
   "cell_type": "markdown",
   "metadata": {},
   "source": [
    "### Adult sun exposure"
   ]
  },
  {
   "cell_type": "code",
   "execution_count": 240,
   "metadata": {
    "scrolled": false
   },
   "outputs": [
    {
     "name": "stdout",
     "output_type": "stream",
     "text": [
      "adultwork\n",
      "adultwk\n",
      "adultwork_y\n",
      "adultwork_ygp\n",
      "adultwkend_y\n",
      "adultwkend_ygp\n",
      "adult_pw\n",
      "adultpw_gp\n",
      "adultpw_gp3\n",
      "adultpw_y\n",
      "adultpw_gp_y\n"
     ]
    }
   ],
   "source": [
    "for c in data.columns:\n",
    "    if \"adult\" in c:\n",
    "        print(c)"
   ]
  },
  {
   "cell_type": "code",
   "execution_count": 232,
   "metadata": {},
   "outputs": [
    {
     "name": "stdout",
     "output_type": "stream",
     "text": [
      "adultpw_gp3\n"
     ]
    }
   ],
   "source": [
    "for c in data.columns:\n",
    "    if len(data[data[c] == 0]) > 309 and len(data[data[c] == 0]) < 329:\n",
    "        if len(data[data[c] == 1]) > 79 and len(data[data[c] == 1]) < 99:\n",
    "            print(c)"
   ]
  },
  {
   "cell_type": "code",
   "execution_count": 233,
   "metadata": {
    "scrolled": true
   },
   "outputs": [
    {
     "data": {
      "text/plain": [
       "{0.0, 1.0, 2.0, nan, nan, nan, nan, nan, nan, nan, nan, nan, nan, nan}"
      ]
     },
     "execution_count": 233,
     "metadata": {},
     "output_type": "execute_result"
    }
   ],
   "source": [
    "set(data.adultpw_gp3)\n",
    "#set(data.adultwk)"
   ]
  },
  {
   "cell_type": "code",
   "execution_count": 237,
   "metadata": {},
   "outputs": [
    {
     "data": {
      "text/plain": [
       "(322, 319)"
      ]
     },
     "execution_count": 237,
     "metadata": {},
     "output_type": "execute_result"
    }
   ],
   "source": [
    "len(data[data.adultpw_gp3 == 0]), 188+131"
   ]
  },
  {
   "cell_type": "code",
   "execution_count": 238,
   "metadata": {},
   "outputs": [
    {
     "data": {
      "text/plain": [
       "(90, 89)"
      ]
     },
     "execution_count": 238,
     "metadata": {},
     "output_type": "execute_result"
    }
   ],
   "source": [
    "len(data[data.adultpw_gp3 == 1]), 36+53"
   ]
  },
  {
   "cell_type": "code",
   "execution_count": 239,
   "metadata": {},
   "outputs": [
    {
     "data": {
      "text/plain": [
       "(101, 100)"
      ]
     },
     "execution_count": 239,
     "metadata": {},
     "output_type": "execute_result"
    }
   ],
   "source": [
    "len(data[data.adultpw_gp3 == 2]), 44+56"
   ]
  },
  {
   "cell_type": "code",
   "execution_count": 241,
   "metadata": {},
   "outputs": [],
   "source": [
    "sun_controls_table = {}\n",
    "sun_case_table = {}"
   ]
  },
  {
   "cell_type": "code",
   "execution_count": 244,
   "metadata": {},
   "outputs": [],
   "source": [
    "# n\n",
    "sun_controls_table['less_than_0.5h_week_count'] = len(controls_data[(controls_data.adultpw_gp3 == 0)])\n",
    "sun_controls_table['0.5-10h_week_count'] = len(controls_data[(controls_data.adultpw_gp3 == 1)])\n",
    "sun_controls_table['10.1-56h_week_count'] = len(controls_data[controls_data.adultpw_gp3 == 2])\n",
    "\n",
    "# (%)\n",
    "sun_controls_table['less_than_0.5h_week_percentage'] = sun_controls_table['less_than_0.5h_week_count'] / len(controls_data.adultpw_gp3)\n",
    "sun_controls_table['0.5-10h_week_percentage'] = sun_controls_table['0.5-10h_week_count'] / len(controls_data.adultpw_gp3)\n",
    "sun_controls_table['10.1-56h_week_percentage'] = sun_controls_table['10.1-56h_week_count'] / len(controls_data.adultpw_gp3)\n",
    "\n",
    "# n\n",
    "sun_case_table['less_than_0.5h_week_count'] = len(case_data[(case_data.adultpw_gp3 == 0)])\n",
    "sun_case_table['0.5-10h_week_count'] = len(case_data[(case_data.adultpw_gp3 == 1)])\n",
    "sun_case_table['10.1-56h_week_count'] = len(case_data[case_data.adultpw_gp3 == 2])\n",
    "\n",
    "# (%)\n",
    "sun_case_table['less_than_0.5h_week_percentage'] = sun_case_table['less_than_0.5h_week_count'] / len(case_data.adultpw_gp3)\n",
    "sun_case_table['0.5-10h_week_percentage'] = sun_case_table['0.5-10h_week_count'] / len(case_data.adultpw_gp3)\n",
    "sun_case_table['10.1-56h_week_percentage'] = sun_case_table['10.1-56h_week_count'] / len(case_data.adultpw_gp3)"
   ]
  },
  {
   "cell_type": "code",
   "execution_count": 245,
   "metadata": {},
   "outputs": [
    {
     "data": {
      "text/html": [
       "<table style=\"display:inline\" border=\"1\" class=\"dataframe\">\n",
       "  <thead>\n",
       "    <tr style=\"text-align: right;\">\n",
       "      <th></th>\n",
       "      <th>Sun exposure</th>\n",
       "      <th>n / (%)</th>\n",
       "    </tr>\n",
       "  </thead>\n",
       "  <tbody>\n",
       "    <tr>\n",
       "      <th>0</th>\n",
       "      <td>less_than_0.5h_week_count</td>\n",
       "      <td>188.000000</td>\n",
       "    </tr>\n",
       "    <tr>\n",
       "      <th>1</th>\n",
       "      <td>0.5-10h_week_count</td>\n",
       "      <td>36.000000</td>\n",
       "    </tr>\n",
       "    <tr>\n",
       "      <th>2</th>\n",
       "      <td>10.1-56h_week_count</td>\n",
       "      <td>44.000000</td>\n",
       "    </tr>\n",
       "    <tr>\n",
       "      <th>3</th>\n",
       "      <td>less_than_0.5h_week_percentage</td>\n",
       "      <td>0.701493</td>\n",
       "    </tr>\n",
       "    <tr>\n",
       "      <th>4</th>\n",
       "      <td>0.5-10h_week_percentage</td>\n",
       "      <td>0.134328</td>\n",
       "    </tr>\n",
       "    <tr>\n",
       "      <th>5</th>\n",
       "      <td>10.1-56h_week_percentage</td>\n",
       "      <td>0.164179</td>\n",
       "    </tr>\n",
       "  </tbody>\n",
       "</table style=\"display:inline\"><table style=\"display:inline\" border=\"1\" class=\"dataframe\">\n",
       "  <thead>\n",
       "    <tr style=\"text-align: right;\">\n",
       "      <th></th>\n",
       "      <th>Sun exposure</th>\n",
       "      <th>n / (%)</th>\n",
       "    </tr>\n",
       "  </thead>\n",
       "  <tbody>\n",
       "    <tr>\n",
       "      <th>0</th>\n",
       "      <td>less_than_0.5h_week_count</td>\n",
       "      <td>134.000000</td>\n",
       "    </tr>\n",
       "    <tr>\n",
       "      <th>1</th>\n",
       "      <td>0.5-10h_week_count</td>\n",
       "      <td>54.000000</td>\n",
       "    </tr>\n",
       "    <tr>\n",
       "      <th>2</th>\n",
       "      <td>10.1-56h_week_count</td>\n",
       "      <td>57.000000</td>\n",
       "    </tr>\n",
       "    <tr>\n",
       "      <th>3</th>\n",
       "      <td>less_than_0.5h_week_percentage</td>\n",
       "      <td>0.546939</td>\n",
       "    </tr>\n",
       "    <tr>\n",
       "      <th>4</th>\n",
       "      <td>0.5-10h_week_percentage</td>\n",
       "      <td>0.220408</td>\n",
       "    </tr>\n",
       "    <tr>\n",
       "      <th>5</th>\n",
       "      <td>10.1-56h_week_percentage</td>\n",
       "      <td>0.232653</td>\n",
       "    </tr>\n",
       "  </tbody>\n",
       "</table style=\"display:inline\">"
      ]
     },
     "metadata": {},
     "output_type": "display_data"
    }
   ],
   "source": [
    "df1 = pd.DataFrame(sun_controls_table.items(), columns=['Sun exposure', 'n / (%)'])\n",
    "df2 = pd.DataFrame(sun_case_table.items(), columns=['Sun exposure', 'n / (%)'])\n",
    "display_side_by_side(df1, df2)"
   ]
  },
  {
   "cell_type": "code",
   "execution_count": 246,
   "metadata": {},
   "outputs": [
    {
     "name": "stdout",
     "output_type": "stream",
     "text": [
      "0.00127810\n"
     ]
    }
   ],
   "source": [
    "a = np.array([[df1.iloc[0,1], df2.iloc[0,1]], \n",
    "              [df1.iloc[1,1], df2.iloc[1,1]], \n",
    "              [df1.iloc[2,1], df2.iloc[2,1]]])\n",
    "\n",
    "_, p_value, _, _ = chi2_contingency(a)\n",
    "print(format(p_value, '.8f'))"
   ]
  },
  {
   "cell_type": "markdown",
   "metadata": {},
   "source": [
    "### Physical activities (MET/wk)"
   ]
  },
  {
   "cell_type": "code",
   "execution_count": 271,
   "metadata": {},
   "outputs": [
    {
     "name": "stdout",
     "output_type": "stream",
     "text": [
      "MET_pw\n",
      "redtea\n",
      "GREENtea\n",
      "soymilk_s\n",
      "stage\n"
     ]
    }
   ],
   "source": [
    "for c in data.columns:\n",
    "    try:\n",
    "        if len(data[data[c] <= 222]) > 95 and len(data[data[c] <= 222]) < 115:\n",
    "            print(c)\n",
    "    except TypeError as e:\n",
    "        continue"
   ]
  },
  {
   "cell_type": "code",
   "execution_count": 273,
   "metadata": {
    "scrolled": true
   },
   "outputs": [
    {
     "name": "stdout",
     "output_type": "stream",
     "text": [
      "MET_work\n",
      "MET_rest\n",
      "MET_pw\n",
      "MET_pwgp3\n",
      "MET_pwgp2\n",
      "MET_pwgp\n",
      "MET_loco\n",
      "MET_log\n",
      "lo_METgp\n"
     ]
    }
   ],
   "source": [
    "for c in data.columns:\n",
    "    if \"MET\" in c:\n",
    "        print(c)"
   ]
  },
  {
   "cell_type": "code",
   "execution_count": 272,
   "metadata": {},
   "outputs": [
    {
     "data": {
      "text/plain": [
       "{nan,\n",
       " nan,\n",
       " nan,\n",
       " nan,\n",
       " nan,\n",
       " nan,\n",
       " nan,\n",
       " nan,\n",
       " nan,\n",
       " 151.5,\n",
       " 184.8000031,\n",
       " 201.5999908,\n",
       " 204.0,\n",
       " 205.8000031,\n",
       " 210.0,\n",
       " 211.8000031,\n",
       " 212.09999080000003,\n",
       " 214.1999969,\n",
       " 216.0,\n",
       " 217.2000122,\n",
       " 218.40000919999997,\n",
       " 219.0,\n",
       " 219.1999969,\n",
       " 219.35000609999997,\n",
       " 220.5,\n",
       " 221.52500919999997,\n",
       " 221.90000919999997,\n",
       " 222.0,\n",
       " 222.59999080000003,\n",
       " 222.77500919999997,\n",
       " 222.89999390000003,\n",
       " 222.9499969,\n",
       " 223.40000919999997,\n",
       " 223.90000919999997,\n",
       " 224.17501830000003,\n",
       " 224.69998169999997,\n",
       " 226.80001830000003,\n",
       " 227.15000919999997,\n",
       " 229.25,\n",
       " 229.65000919999997,\n",
       " 231.10000609999997,\n",
       " 231.17501830000003,\n",
       " 231.80001830000003,\n",
       " 233.05001830000003,\n",
       " 233.09999080000003,\n",
       " 233.5,\n",
       " 233.625,\n",
       " 233.80001830000003,\n",
       " 234.0,\n",
       " 234.30001830000003,\n",
       " 234.5,\n",
       " 234.65000919999997,\n",
       " 234.90000919999997,\n",
       " 235.0,\n",
       " 235.0500031,\n",
       " 235.09999080000003,\n",
       " 235.15000919999997,\n",
       " 235.19998169999997,\n",
       " 235.55001830000003,\n",
       " 235.72499080000003,\n",
       " 235.75,\n",
       " 235.90000919999997,\n",
       " 236.0,\n",
       " 236.3000031,\n",
       " 236.80001830000003,\n",
       " 236.90000919999997,\n",
       " 237.25,\n",
       " 237.30001830000003,\n",
       " 238.0,\n",
       " 238.10000609999997,\n",
       " 238.1999969,\n",
       " 238.40000919999997,\n",
       " 238.5500031,\n",
       " 238.84999080000003,\n",
       " 238.89999390000003,\n",
       " 239.19998169999997,\n",
       " 239.30001830000003,\n",
       " 239.40000919999997,\n",
       " 239.75,\n",
       " 240.09999080000003,\n",
       " 241.3000031,\n",
       " 241.84999080000003,\n",
       " 241.89999390000003,\n",
       " 242.0,\n",
       " 242.19998169999997,\n",
       " 242.39999390000003,\n",
       " 243.05001830000003,\n",
       " 243.15000919999997,\n",
       " 243.25,\n",
       " 243.40000919999997,\n",
       " 243.59999080000003,\n",
       " 243.84999080000003,\n",
       " 243.89999390000003,\n",
       " 243.94998169999997,\n",
       " 244.30001830000003,\n",
       " 244.65000919999997,\n",
       " 245.0,\n",
       " 245.09999080000003,\n",
       " 245.14999390000003,\n",
       " 245.65000919999997,\n",
       " 246.05001830000003,\n",
       " 246.40000919999997,\n",
       " 247.55001830000003,\n",
       " 248.15000919999997,\n",
       " 248.40000919999997,\n",
       " 248.60000609999997,\n",
       " 248.84999080000003,\n",
       " 249.2999878,\n",
       " 249.30001830000003,\n",
       " 249.69998169999997,\n",
       " 250.09999080000003,\n",
       " 252.10000609999997,\n",
       " 253.40000919999997,\n",
       " 254.8000031,\n",
       " 255.15000919999997,\n",
       " 255.60000609999997,\n",
       " 255.90000919999997,\n",
       " 256.8500061,\n",
       " 256.8999939,\n",
       " 257.6000061,\n",
       " 257.7000122,\n",
       " 257.8999939,\n",
       " 258.3999939,\n",
       " 258.8500061,\n",
       " 259.30001830000003,\n",
       " 259.3500061,\n",
       " 260.55001830000003,\n",
       " 260.7000122,\n",
       " 260.8999939,\n",
       " 261.0,\n",
       " 261.80001830000003,\n",
       " 262.1499939,\n",
       " 262.2999878,\n",
       " 263.19998169999997,\n",
       " 263.3999939,\n",
       " 263.8999939,\n",
       " 264.55001830000003,\n",
       " 264.6499939,\n",
       " 265.8999939,\n",
       " 266.69998169999997,\n",
       " 266.80001830000003,\n",
       " 267.19998169999997,\n",
       " 267.6000061,\n",
       " 267.8999939,\n",
       " 268.1000061,\n",
       " 269.2000122,\n",
       " 270.19998169999997,\n",
       " 270.55001830000003,\n",
       " 270.89999389999997,\n",
       " 271.39999389999997,\n",
       " 271.94998169999997,\n",
       " 276.5999756,\n",
       " 276.85000610000003,\n",
       " 277.80001830000003,\n",
       " 278.2000122,\n",
       " 279.7999878,\n",
       " 280.89999389999997,\n",
       " 281.10000610000003,\n",
       " 281.60000610000003,\n",
       " 281.80001830000003,\n",
       " 283.0,\n",
       " 288.39999389999997,\n",
       " 289.10000610000003,\n",
       " 289.7000122,\n",
       " 290.19998169999997,\n",
       " 290.89999389999997,\n",
       " 292.25,\n",
       " 293.39999389999997,\n",
       " 294.30001830000003,\n",
       " 295.39999389999997,\n",
       " 296.80001830000003,\n",
       " 299.60000610000003,\n",
       " 300.10000610000003,\n",
       " 300.2999878,\n",
       " 302.94998169999997,\n",
       " 303.60000610000003,\n",
       " 303.80001830000003,\n",
       " 304.14999389999997,\n",
       " 305.89999389999997,\n",
       " 306.39999389999997,\n",
       " 310.55001830000003,\n",
       " 316.0,\n",
       " 316.05001830000003,\n",
       " 322.60000610000003,\n",
       " 322.69998169999997,\n",
       " 324.7000122,\n",
       " 326.89999389999997,\n",
       " 327.0,\n",
       " 327.39999389999997,\n",
       " 327.80001830000003,\n",
       " 331.0,\n",
       " 332.7999878,\n",
       " 335.60000610000003,\n",
       " 340.10000610000003,\n",
       " 341.0,\n",
       " 348.7999878,\n",
       " 356.35000610000003,\n",
       " 358.39999389999997,\n",
       " 362.60000610000003,\n",
       " 366.80001830000003,\n",
       " 386.39999389999997,\n",
       " 395.60000610000003,\n",
       " 400.39999389999997,\n",
       " 406.80001830000003,\n",
       " 436.0,\n",
       " 437.19998169999997,\n",
       " 444.5,\n",
       " 446.80001830000003,\n",
       " 452.6000061000001,\n",
       " 459.3999938999999,\n",
       " 498.39996339999993,\n",
       " 513.3999633999999,\n",
       " nan,\n",
       " nan,\n",
       " 216.3000031,\n",
       " 216.60000609999997,\n",
       " 220.1999969,\n",
       " 221.39999390000003,\n",
       " 222.3000031,\n",
       " 222.7999878,\n",
       " 223.2000122,\n",
       " 224.40000919999997,\n",
       " 224.65000919999997,\n",
       " 224.75,\n",
       " 225.60000609999997,\n",
       " 225.90000919999997,\n",
       " 226.25,\n",
       " 226.75,\n",
       " 226.90000919999997,\n",
       " 227.39999390000003,\n",
       " 227.5,\n",
       " 227.59999080000003,\n",
       " 228.40000919999997,\n",
       " 228.60000609999997,\n",
       " 228.8000031,\n",
       " 228.84999080000003,\n",
       " 228.90000919999997,\n",
       " 229.30001830000003,\n",
       " 229.40000919999997,\n",
       " 229.5500031,\n",
       " 229.8000031,\n",
       " 229.90000919999997,\n",
       " 230.09999080000003,\n",
       " 230.14999390000003,\n",
       " 230.1999969,\n",
       " 230.5,\n",
       " 230.90000919999997,\n",
       " 231.0,\n",
       " 231.25,\n",
       " 231.34999080000003,\n",
       " 231.69998169999997,\n",
       " 232.14999390000003,\n",
       " 232.55001830000003,\n",
       " 232.6999969,\n",
       " 233.0,\n",
       " 233.44998169999997,\n",
       " 246.0,\n",
       " 246.25,\n",
       " 246.39999390000003,\n",
       " 247.10000609999997,\n",
       " 248.5,\n",
       " 250.60000609999997,\n",
       " 253.75,\n",
       " 254.5,\n",
       " 698.8999633999999,\n",
       " 808.5}"
      ]
     },
     "execution_count": 272,
     "metadata": {},
     "output_type": "execute_result"
    }
   ],
   "source": [
    "set(data.MET_pw)"
   ]
  },
  {
   "cell_type": "code",
   "execution_count": 274,
   "metadata": {},
   "outputs": [
    {
     "data": {
      "text/plain": [
       "{nan, 1.0, 2.0, 3.0, 4.0, nan, nan, nan, nan, nan, nan, nan, nan, nan, nan}"
      ]
     },
     "execution_count": 274,
     "metadata": {},
     "output_type": "execute_result"
    }
   ],
   "source": [
    "set(data.MET_pwgp)"
   ]
  },
  {
   "cell_type": "code",
   "execution_count": 275,
   "metadata": {},
   "outputs": [
    {
     "data": {
      "text/plain": [
       "(105, 105)"
      ]
     },
     "execution_count": 275,
     "metadata": {},
     "output_type": "execute_result"
    }
   ],
   "source": [
    "len(data[data.MET_pwgp == 1]), 65+40"
   ]
  },
  {
   "cell_type": "code",
   "execution_count": 276,
   "metadata": {},
   "outputs": [
    {
     "data": {
      "text/plain": [
       "(126, 123)"
      ]
     },
     "execution_count": 276,
     "metadata": {},
     "output_type": "execute_result"
    }
   ],
   "source": [
    "len(data[data.MET_pwgp == 2]), 66+57"
   ]
  },
  {
   "cell_type": "code",
   "execution_count": 277,
   "metadata": {},
   "outputs": [
    {
     "data": {
      "text/plain": [
       "(133, 133)"
      ]
     },
     "execution_count": 277,
     "metadata": {},
     "output_type": "execute_result"
    }
   ],
   "source": [
    "len(data[data.MET_pwgp == 3]), 69+64"
   ]
  },
  {
   "cell_type": "code",
   "execution_count": 278,
   "metadata": {},
   "outputs": [
    {
     "data": {
      "text/plain": [
       "(149, 147)"
      ]
     },
     "execution_count": 278,
     "metadata": {},
     "output_type": "execute_result"
    }
   ],
   "source": [
    "len(data[data.MET_pwgp == 4]), 68+79"
   ]
  },
  {
   "cell_type": "code",
   "execution_count": 279,
   "metadata": {},
   "outputs": [],
   "source": [
    "pa_controls_table = {}\n",
    "pa_case_table = {}"
   ]
  },
  {
   "cell_type": "code",
   "execution_count": 280,
   "metadata": {},
   "outputs": [],
   "source": [
    "# n\n",
    "pa_controls_table['quartile1_count'] = len(controls_data[(controls_data.MET_pwgp == 1)])\n",
    "pa_controls_table['quartile2_count'] = len(controls_data[(controls_data.MET_pwgp == 2)])\n",
    "pa_controls_table['quartile3_count'] = len(controls_data[controls_data.MET_pwgp == 3])\n",
    "pa_controls_table['quartile4_count'] = len(controls_data[controls_data.MET_pwgp == 4])\n",
    "\n",
    "# (%)\n",
    "pa_controls_table['quartile1_percentage'] = pa_controls_table['quartile1_count'] / len(controls_data.MET_pwgp)\n",
    "pa_controls_table['quartile2_percentage'] = pa_controls_table['quartile2_count'] / len(controls_data.MET_pwgp)\n",
    "pa_controls_table['quartile3_percentage'] = pa_controls_table['quartile3_count'] / len(controls_data.MET_pwgp)\n",
    "pa_controls_table['quartile4_percentage'] = pa_controls_table['quartile4_count'] / len(controls_data.MET_pwgp)\n",
    "\n",
    "# n\n",
    "pa_case_table['quartile1_count'] = len(case_data[(case_data.MET_pwgp == 1)])\n",
    "pa_case_table['quartile2_count'] = len(case_data[(case_data.MET_pwgp == 2)])\n",
    "pa_case_table['quartile3_count'] = len(case_data[case_data.MET_pwgp == 3])\n",
    "pa_case_table['quartile4_count'] = len(case_data[case_data.MET_pwgp == 4])\n",
    "\n",
    "# (%)\n",
    "pa_case_table['quartile1_percentage'] = pa_case_table['quartile1_count'] / len(case_data.MET_pwgp)\n",
    "pa_case_table['quartile2_percentage'] = pa_case_table['quartile2_count'] / len(case_data.MET_pwgp)\n",
    "pa_case_table['quartile3_percentage'] = pa_case_table['quartile3_count'] / len(case_data.MET_pwgp)\n",
    "pa_case_table['quartile4_percentage'] = pa_case_table['quartile4_count'] / len(case_data.MET_pwgp)\n"
   ]
  },
  {
   "cell_type": "code",
   "execution_count": 281,
   "metadata": {},
   "outputs": [
    {
     "data": {
      "text/html": [
       "<table style=\"display:inline\" border=\"1\" class=\"dataframe\">\n",
       "  <thead>\n",
       "    <tr style=\"text-align: right;\">\n",
       "      <th></th>\n",
       "      <th></th>\n",
       "      <th>n / (%)</th>\n",
       "    </tr>\n",
       "  </thead>\n",
       "  <tbody>\n",
       "    <tr>\n",
       "      <th>0</th>\n",
       "      <td>quartile1_count</td>\n",
       "      <td>65.000000</td>\n",
       "    </tr>\n",
       "    <tr>\n",
       "      <th>1</th>\n",
       "      <td>quartile2_count</td>\n",
       "      <td>66.000000</td>\n",
       "    </tr>\n",
       "    <tr>\n",
       "      <th>2</th>\n",
       "      <td>quartile3_count</td>\n",
       "      <td>69.000000</td>\n",
       "    </tr>\n",
       "    <tr>\n",
       "      <th>3</th>\n",
       "      <td>quartile4_count</td>\n",
       "      <td>68.000000</td>\n",
       "    </tr>\n",
       "    <tr>\n",
       "      <th>4</th>\n",
       "      <td>quartile1_percentage</td>\n",
       "      <td>0.242537</td>\n",
       "    </tr>\n",
       "    <tr>\n",
       "      <th>5</th>\n",
       "      <td>quartile2_percentage</td>\n",
       "      <td>0.246269</td>\n",
       "    </tr>\n",
       "    <tr>\n",
       "      <th>6</th>\n",
       "      <td>quartile3_percentage</td>\n",
       "      <td>0.257463</td>\n",
       "    </tr>\n",
       "    <tr>\n",
       "      <th>7</th>\n",
       "      <td>quartile4_percentage</td>\n",
       "      <td>0.253731</td>\n",
       "    </tr>\n",
       "  </tbody>\n",
       "</table style=\"display:inline\"><table style=\"display:inline\" border=\"1\" class=\"dataframe\">\n",
       "  <thead>\n",
       "    <tr style=\"text-align: right;\">\n",
       "      <th></th>\n",
       "      <th></th>\n",
       "      <th>n / (%)</th>\n",
       "    </tr>\n",
       "  </thead>\n",
       "  <tbody>\n",
       "    <tr>\n",
       "      <th>0</th>\n",
       "      <td>quartile1_count</td>\n",
       "      <td>40.000000</td>\n",
       "    </tr>\n",
       "    <tr>\n",
       "      <th>1</th>\n",
       "      <td>quartile2_count</td>\n",
       "      <td>60.000000</td>\n",
       "    </tr>\n",
       "    <tr>\n",
       "      <th>2</th>\n",
       "      <td>quartile3_count</td>\n",
       "      <td>64.000000</td>\n",
       "    </tr>\n",
       "    <tr>\n",
       "      <th>3</th>\n",
       "      <td>quartile4_count</td>\n",
       "      <td>81.000000</td>\n",
       "    </tr>\n",
       "    <tr>\n",
       "      <th>4</th>\n",
       "      <td>quartile1_percentage</td>\n",
       "      <td>0.163265</td>\n",
       "    </tr>\n",
       "    <tr>\n",
       "      <th>5</th>\n",
       "      <td>quartile2_percentage</td>\n",
       "      <td>0.244898</td>\n",
       "    </tr>\n",
       "    <tr>\n",
       "      <th>6</th>\n",
       "      <td>quartile3_percentage</td>\n",
       "      <td>0.261224</td>\n",
       "    </tr>\n",
       "    <tr>\n",
       "      <th>7</th>\n",
       "      <td>quartile4_percentage</td>\n",
       "      <td>0.330612</td>\n",
       "    </tr>\n",
       "  </tbody>\n",
       "</table style=\"display:inline\">"
      ]
     },
     "metadata": {},
     "output_type": "display_data"
    }
   ],
   "source": [
    "df1 = pd.DataFrame(pa_controls_table.items(), columns=['', 'n / (%)'])\n",
    "df2 = pd.DataFrame(pa_case_table.items(), columns=['', 'n / (%)'])\n",
    "display_side_by_side(df1, df2)"
   ]
  },
  {
   "cell_type": "code",
   "execution_count": 282,
   "metadata": {},
   "outputs": [
    {
     "name": "stdout",
     "output_type": "stream",
     "text": [
      "0.08801089\n"
     ]
    }
   ],
   "source": [
    "a = np.array([[df1.iloc[0,1], df2.iloc[0,1]], \n",
    "              [df1.iloc[1,1], df2.iloc[1,1]], \n",
    "              [df1.iloc[2,1], df2.iloc[2,1]],\n",
    "              [df1.iloc[3,1], df2.iloc[3,1]]])\n",
    "\n",
    "_, p_value, _, _ = chi2_contingency(a)\n",
    "print(format(p_value, '.8f'))"
   ]
  },
  {
   "cell_type": "code",
   "execution_count": null,
   "metadata": {},
   "outputs": [],
   "source": []
  },
  {
   "cell_type": "code",
   "execution_count": 299,
   "metadata": {},
   "outputs": [
    {
     "name": "stdout",
     "output_type": "stream",
     "text": [
      "eye {nan, 1.0, 2.0, nan, nan, 3.0, nan, nan, nan, nan, nan, nan, nan, nan, nan, nan, nan, nan, nan, nan}\n",
      "eye2 {0.0, 1.0, nan, nan, nan, 3.0, nan, nan, nan, nan, nan, nan, nan, nan, nan, nan, nan, nan, nan, nan}\n",
      "eye4 {nan, 'Lt brown', 'Black'}\n",
      "eye3 {0.0, 1.0, nan, nan, nan, nan, nan, nan, nan, nan, nan, nan, nan, nan, nan, nan, nan, nan, nan, nan, nan}\n"
     ]
    }
   ],
   "source": [
    "for c in data.columns:\n",
    "    if \"eye\" in  c:\n",
    "        print(c, set(data[c]))"
   ]
  },
  {
   "cell_type": "code",
   "execution_count": 297,
   "metadata": {},
   "outputs": [
    {
     "data": {
      "text/plain": [
       "{'Black', 'Lt brown', nan}"
      ]
     },
     "execution_count": 297,
     "metadata": {},
     "output_type": "execute_result"
    }
   ],
   "source": [
    "set(data.eye4)"
   ]
  },
  {
   "cell_type": "code",
   "execution_count": 301,
   "metadata": {},
   "outputs": [
    {
     "data": {
      "text/plain": [
       "(383, 378)"
      ]
     },
     "execution_count": 301,
     "metadata": {},
     "output_type": "execute_result"
    }
   ],
   "source": [
    "len(data[data.eye4 == \"Black\"]), 169+209"
   ]
  },
  {
   "cell_type": "code",
   "execution_count": 302,
   "metadata": {},
   "outputs": [
    {
     "data": {
      "text/plain": [
       "(122, 122)"
      ]
     },
     "execution_count": 302,
     "metadata": {},
     "output_type": "execute_result"
    }
   ],
   "source": [
    "len(data[data.eye4 == \"Lt brown\"]), 97+25"
   ]
  },
  {
   "cell_type": "code",
   "execution_count": 303,
   "metadata": {},
   "outputs": [
    {
     "name": "stdout",
     "output_type": "stream",
     "text": [
      "skin {nan, 'Dk brown/black', 'V white/white', 'Tan', 'Lt Tan'}\n",
      "skin3 {nan, 'Dk brown', 'Lt Tan', 'White'}\n",
      "skin2 {nan, 1.0, nan, 3.0, 4.0, nan, nan, nan, nan, nan, nan, nan, nan, nan, nan, nan, nan, nan, nan, nan}\n"
     ]
    }
   ],
   "source": [
    "for c in data.columns:\n",
    "    if \"skin\" in  c:\n",
    "        print(c, set(data[c]))"
   ]
  },
  {
   "cell_type": "code",
   "execution_count": 311,
   "metadata": {},
   "outputs": [
    {
     "data": {
      "text/plain": [
       "(106, 105, 106)"
      ]
     },
     "execution_count": 311,
     "metadata": {},
     "output_type": "execute_result"
    }
   ],
   "source": [
    "len(data[data.skin == \"V white/white\"]), 80+25, len(data[data.skin2 == 1])"
   ]
  },
  {
   "cell_type": "code",
   "execution_count": 312,
   "metadata": {},
   "outputs": [
    {
     "data": {
      "text/plain": [
       "(248, 246, 248)"
      ]
     },
     "execution_count": 312,
     "metadata": {},
     "output_type": "execute_result"
    }
   ],
   "source": [
    "len(data[data.skin == \"Lt Tan\"]), 116+130, len(data[data.skin2 == 3])"
   ]
  },
  {
   "cell_type": "code",
   "execution_count": 313,
   "metadata": {},
   "outputs": [
    {
     "data": {
      "text/plain": [
       "(153, 151, 153)"
      ]
     },
     "execution_count": 313,
     "metadata": {},
     "output_type": "execute_result"
    }
   ],
   "source": [
    "len(data[(data.skin == \"Tan\") | (data.skin == \"Dk brown/black\")]), 72+79, len(data[data.skin2 == 4])"
   ]
  },
  {
   "cell_type": "code",
   "execution_count": 310,
   "metadata": {},
   "outputs": [
    {
     "data": {
      "text/plain": [
       "11"
      ]
     },
     "execution_count": 310,
     "metadata": {},
     "output_type": "execute_result"
    }
   ],
   "source": [
    "len(data[data.casectrl.isnull()])"
   ]
  },
  {
   "cell_type": "code",
   "execution_count": 333,
   "metadata": {
    "scrolled": false
   },
   "outputs": [],
   "source": [
    "#data[data.sunburn_fq == \"Occasionally\"].sunburn_fq2"
   ]
  },
  {
   "cell_type": "code",
   "execution_count": 334,
   "metadata": {
    "scrolled": true
   },
   "outputs": [],
   "source": [
    "#data[data.sunburn_fq == \"Frequently\"].sunburn_fq2"
   ]
  },
  {
   "cell_type": "code",
   "execution_count": null,
   "metadata": {},
   "outputs": [],
   "source": []
  }
 ],
 "metadata": {
  "kernelspec": {
   "display_name": "Python 3",
   "language": "python",
   "name": "python3"
  },
  "language_info": {
   "codemirror_mode": {
    "name": "ipython",
    "version": 3
   },
   "file_extension": ".py",
   "mimetype": "text/x-python",
   "name": "python",
   "nbconvert_exporter": "python",
   "pygments_lexer": "ipython3",
   "version": "3.7.5"
  },
  "toc": {
   "base_numbering": 1,
   "nav_menu": {},
   "number_sections": true,
   "sideBar": true,
   "skip_h1_title": false,
   "title_cell": "Table of Contents",
   "title_sidebar": "Contents",
   "toc_cell": false,
   "toc_position": {},
   "toc_section_display": true,
   "toc_window_display": false
  }
 },
 "nbformat": 4,
 "nbformat_minor": 4
}
